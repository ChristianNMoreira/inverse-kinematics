{
 "cells": [
  {
   "cell_type": "code",
   "execution_count": 1,
   "metadata": {},
   "outputs": [],
   "source": [
    "import numpy as np\n",
    "import matplotlib.pyplot as plt"
   ]
  },
  {
   "cell_type": "code",
   "execution_count": 2,
   "metadata": {},
   "outputs": [],
   "source": [
    "from typing import Callable"
   ]
  },
  {
   "cell_type": "markdown",
   "metadata": {},
   "source": [
    "# Cinemática inversa numérica"
   ]
  },
  {
   "cell_type": "markdown",
   "metadata": {},
   "source": [
    "Sendo $x=f(\\theta)$ o vetor das posições referentes aos ângulos ($\\theta\\in\\mathbb{R}^n$), e $x_d \\in\\mathbb{R}^m$ as coordenadas desejadas, a solução será $\\theta_d$ tal que $g(\\theta_d)=x_d-f(\\theta_d)=0$."
   ]
  },
  {
   "cell_type": "markdown",
   "metadata": {},
   "source": [
    "Pelo método de Newton-Raphson, para resolver uma equação do tipo $g(\\theta)=0$ , se usa a expansão de Taylor de primeira ordem:\n",
    "\n",
    "$g(\\theta)=g(\\theta_0)+\\frac{\\partial g}{\\partial\\theta}\\Big|_{\\theta_0}(\\theta-\\theta_0)~~$\n",
    "$\\overset{g(\\theta)=0}{\\longrightarrow}~~$\n",
    "$\\theta=\\theta_0-\\Big(\\frac{\\partial g}{\\partial\\theta}\\Big|_{\\theta_0}\\Big)^{-1}g(\\theta_0)$\n",
    "\n",
    "Generalizando:\n",
    "\n",
    "$\\theta_{k+1}=\\theta_k-\\Big(\\frac{\\partial g}{\\partial\\theta}\\Big|_{\\theta_k}\\Big)^{-1}g(\\theta_k)$"
   ]
  },
  {
   "cell_type": "markdown",
   "metadata": {},
   "source": [
    "Com isso:\n",
    "\n",
    "$x_d=f(\\theta_d)=f(\\theta_0)+\\underset{J(\\theta_0)}{\\boxed{\\frac{\\partial f}{\\partial\\theta}\\Big|_{\\theta_0}}}\n",
    "\\cdot\\underset{\\Delta\\theta}{\\boxed{(\\theta_d-\\theta_0)}}~,~~J(\\theta_0)\\in\\mathbb{R}^{m\\times n}~\\Rightarrow~$\n",
    "$J(\\theta_0)\\Delta\\theta=x_d-f(\\theta_0)~\\Rightarrow$\n",
    "\n",
    "$\\theta_1=\\theta_0+\\Delta\\theta$\n",
    "\n",
    "Generalizando:\n",
    "\n",
    "$\\theta_{k+1}=\\theta_k+\\Delta\\theta_k$"
   ]
  },
  {
   "cell_type": "markdown",
   "metadata": {},
   "source": [
    "**Obs:** Sendo $f(\\theta) = \\big[f_1(\\theta)~,~~f_2(\\theta)~,~~\\cdots~,~~f_n(\\theta)\\big]$:\n",
    "\n",
    "$J(\\theta)=$\n",
    "$\\begin{bmatrix}\n",
    "\\frac{\\partial f_1}{\\partial\\theta_1}(\\theta)&\\cdots&\\frac{\\partial f_1}{\\partial\\theta_n}(\\theta)\\\\\n",
    "\\vdots&\\ddots&\\vdots\\\\\n",
    "\\frac{\\partial f_n}{\\partial\\theta_1}(\\theta)&\\cdots&\\frac{\\partial f_n}{\\partial\\theta_n}(\\theta)\n",
    "\\end{bmatrix}$"
   ]
  },
  {
   "cell_type": "markdown",
   "metadata": {},
   "source": [
    "## Caso para 1 dimensão"
   ]
  },
  {
   "cell_type": "markdown",
   "metadata": {},
   "source": [
    "O caso para 1 dimensão se resume em encontrar um ângulo referente a uma posição em um círculo. Pode-se usar o método de Newton."
   ]
  },
  {
   "cell_type": "markdown",
   "metadata": {},
   "source": [
    "### Método de Newton"
   ]
  },
  {
   "cell_type": "code",
   "execution_count": 3,
   "metadata": {},
   "outputs": [],
   "source": [
    "def nr(f: Callable[[float], float], df: Callable[[float], float], x: float, p: float) -> float:\n",
    "    # p = chute inicial\n",
    "    def g(w):\n",
    "        return f(w) - x\n",
    "    xl = p\n",
    "    # critérios de parada\n",
    "    N, e_stop = 50, 1e-8\n",
    "    iter, e = 0, 1\n",
    "    while iter < N-1 and e > e_stop:\n",
    "        xn = xl - g(xl)/df(xl)\n",
    "        e = xn\n",
    "        xl = xn\n",
    "        iter += 1\n",
    "\n",
    "    return xn"
   ]
  },
  {
   "cell_type": "code",
   "execution_count": 4,
   "metadata": {},
   "outputs": [],
   "source": [
    "R = 3\n",
    "\n",
    "def f_1d(theta: float) -> float:\n",
    "    return theta*R\n",
    "\n",
    "def d_f_1d(theta: float) -> float:\n",
    "    return R"
   ]
  },
  {
   "cell_type": "code",
   "execution_count": 5,
   "metadata": {
    "scrolled": false
   },
   "outputs": [
    {
     "name": "stdout",
     "output_type": "stream",
     "text": [
      "Valor de theta encontrado para x = 2: 0.6666666666666667\n",
      "Valor de x: 2.0\n"
     ]
    }
   ],
   "source": [
    "theta_nr = nr(f_1d, d_f_1d, 2, 0.7)\n",
    "print(f\"Valor de theta encontrado para x = 2: {theta_nr}\")\n",
    "print(f\"Valor de x: {f_1d(theta_nr)}\")"
   ]
  },
  {
   "cell_type": "markdown",
   "metadata": {},
   "source": [
    "## Caso para 2 dimensões"
   ]
  },
  {
   "cell_type": "markdown",
   "metadata": {},
   "source": [
    "$f=(x,y)=\\Big(f_1(\\theta_1,\\theta_2),~f_2(\\theta_1,\\theta_2)\\Big)=\\Big(R_1\\cos(\\theta_1)+R_2\\cos(\\theta_2),~R_1\\sin(\\theta_1)+R_2\\sin(\\theta_2)\\Big)$\n",
    "\n",
    "$J=\\begin{bmatrix}\\frac{\\partial f_1}{\\partial\\theta_1}&\\frac{\\partial f_1}{\\partial\\theta_2}\\\\\\frac{\\partial f_2}{\\partial\\theta_1}&\\frac{\\partial f_2}{\\partial\\theta_2}\\end{bmatrix}=$\n",
    "$\\begin{bmatrix}-R_1\\sin(\\theta_1)&-R_2\\sin(\\theta_2)\\\\R_1\\cos(\\theta_1)&R_2\\cos(\\theta_2)\\end{bmatrix}$"
   ]
  },
  {
   "cell_type": "markdown",
   "metadata": {},
   "source": [
    "**Newton-Raphson:**\n",
    "\n",
    "$\\begin{bmatrix}\n",
    "-R_1\\sin(\\theta_{1_k})&-R_2\\sin(\\theta_{2_k})\\\\\n",
    "R_1\\cos(\\theta_{1_k})&R_2\\cos(\\theta_{2_k})\n",
    "\\end{bmatrix}$\n",
    "$\\begin{bmatrix}\n",
    "\\theta_{1_{k+1}}-\\theta_{1_k}\\\\\n",
    "\\theta_{2_{k+1}}-\\theta_{2_k}\\\\\n",
    "\\end{bmatrix}=$\n",
    "$\\begin{bmatrix}\n",
    "x_{1_d}\\\\x_{2_d}\n",
    "\\end{bmatrix}-$\n",
    "$\\begin{bmatrix}\n",
    "R_1\\cos(\\theta_{1_k})+R_2\\cos(\\theta_{2_k})\\\\\n",
    "R_1\\sin(\\theta_{1_k})+R_2\\sin(\\theta_{2_k})\n",
    "\\end{bmatrix}$"
   ]
  },
  {
   "cell_type": "markdown",
   "metadata": {},
   "source": [
    "$\\begin{bmatrix}\n",
    "\\theta_{1_{k+1}}-\\theta_{1_k}\\\\\n",
    "\\theta_{2_{k+1}}-\\theta_{2_k}\n",
    "\\end{bmatrix}=\n",
    "\\begin{bmatrix}\n",
    "-R_1\\sin(\\theta_{1_k})&-R_2\\sin(\\theta_{2_k})\\\\\n",
    "R_1\\cos(\\theta_{1_k})&R_2\\cos(\\theta_{2_k})\n",
    "\\end{bmatrix}^{-1}\n",
    "\\begin{bmatrix}\n",
    "x_{1_d} - \\big(R_1\\cos(\\theta_{1_k})+R_2\\cos(\\theta_{2_k})\\big)\\\\\n",
    "x_{2_d} - \\big(R_1\\sin(\\theta_{1_k})+R_2\\sin(\\theta_{2_k})\\big)\n",
    "\\end{bmatrix}$\n",
    "\n",
    "$\\Theta = A^{-1}\\cdot\\Big[X-B\\Big]$"
   ]
  },
  {
   "cell_type": "code",
   "execution_count": 6,
   "metadata": {},
   "outputs": [],
   "source": [
    "def A_matrix_maker(R1, R2, theta1, theta2):\n",
    "    return [[-R1*np.sin(theta1), -R2*np.sin(theta2)], [R1*np.cos(theta1), R2*np.cos(theta2)]]\n",
    "def B_matrix_maker(R1, R2, theta1, theta2):\n",
    "    return [R1*np.cos(theta1)+R2*np.cos(theta2), R1*np.sin(theta1)+R2*np.sin(theta2)]"
   ]
  },
  {
   "cell_type": "code",
   "execution_count": 7,
   "metadata": {},
   "outputs": [],
   "source": [
    "def nr_2d(R1: float, R2: float, theta1: float, theta2: float, xd: list) -> tuple:\n",
    "    xd = np.asarray(xd)\n",
    "    mod = np.sqrt(xd[0]**2 + xd[1]**2)\n",
    "    if mod > R1+R2 or mod < abs(R1-R2):\n",
    "        raise ValueError(\"Não alcançável\")\n",
    "    loop = True\n",
    "    iter = 0\n",
    "    while loop:\n",
    "        iter += 1\n",
    "        A_matrix = np.asarray(A_matrix_maker(R1, R2, theta1, theta2))\n",
    "        B_matrix = np.asarray(B_matrix_maker(R1, R2, theta1, theta2))\n",
    "        Theta_vector = np.matmul(np.linalg.inv(A_matrix), xd - B_matrix)\n",
    "        theta1, theta2 = Theta_vector[0] + theta1, Theta_vector[1] + theta2\n",
    "        x = np.asarray(B_matrix_maker(R1, R2, theta1, theta2))\n",
    "        loop = iter < 50 and not np.allclose(xd, x, rtol=1e-10)\n",
    "    return theta1, theta2, x"
   ]
  },
  {
   "cell_type": "code",
   "execution_count": 8,
   "metadata": {},
   "outputs": [
    {
     "name": "stdout",
     "output_type": "stream",
     "text": [
      "x desejado: [1.83306087 1.08330911]  x encontrado: [1.83306087 1.08330911]\n",
      "x desejado: [1.71709992 1.99433   ]  x encontrado: [1.71709992 1.99433   ]\n",
      "x desejado: [2.16726946 2.82245192]  x encontrado: [2.16726946 2.82245192]\n",
      "x desejado: [1.12262952 1.62493023]  x encontrado: [1.12262952 1.62493023]\n",
      "x desejado: [3.6971612  1.23671645]  x encontrado: [3.6971612  1.23671645]\n",
      "x desejado: [4.51307717 1.17566602]  x encontrado: [4.51307717 1.17566602]\n",
      "Não alcançável\n",
      "x desejado: [3.0496628  3.92108351]  x encontrado: [3.0496628  3.92108351]\n",
      "x desejado: [3.59402238 1.92979866]  x encontrado: [3.59402238 1.92979866]\n",
      "x desejado: [2.09270755 2.31513893]  x encontrado: [2.09270755 2.31513893]\n",
      "Não alcançável\n",
      "Não alcançável\n",
      "x desejado: [2.1968991  1.54259336]  x encontrado: [2.1968991  1.54259336]\n",
      "x desejado: [2.19900171 2.30873851]  x encontrado: [2.19900171 2.30873851]\n",
      "Não alcançável\n",
      "x desejado: [2.55366758 1.08205598]  x encontrado: [2.55366758 1.08205598]\n",
      "Não alcançável\n",
      "x desejado: [3.51418277 1.60794567]  x encontrado: [3.51418277 1.60794567]\n",
      "x desejado: [1.13486116 4.87048616]  x encontrado: [1.13486116 4.87048616]\n",
      "x desejado: [2.91420406 4.3939472 ]  x encontrado: [2.91420406 4.3939472 ]\n",
      "x desejado: [1.34362142 4.19662809]  x encontrado: [1.34362142 4.19662809]\n",
      "x desejado: [1.58713105 4.73384802]  x encontrado: [1.58713105 4.73384802]\n",
      "x desejado: [3.80752565 3.83193301]  x encontrado: [3.80752565 3.83193301]\n",
      "x desejado: [4.29220423 2.83130415]  x encontrado: [4.29220423 2.83130415]\n",
      "x desejado: [1.50068589 3.89446778]  x encontrado: [1.50068589 3.89446778]\n",
      "x desejado: [2.92736929 1.54161757]  x encontrado: [2.92736929 1.54161757]\n",
      "x desejado: [2.03850236 1.79363003]  x encontrado: [2.03850236 1.79363003]\n",
      "x desejado: [1.85646141 3.32594208]  x encontrado: [1.85646141 3.32594208]\n",
      "x desejado: [1.76962941 2.53038393]  x encontrado: [1.76962941 2.53038393]\n",
      "x desejado: [4.23994805 2.82680377]  x encontrado: [4.23994805 2.82680377]\n",
      "x desejado: [2.02898657 3.31424516]  x encontrado: [2.02898657 3.31424516]\n",
      "x desejado: [3.00613524 1.03505052]  x encontrado: [3.00613524 1.03505052]\n",
      "Não alcançável\n",
      "x desejado: [4.74949696 1.67399775]  x encontrado: [4.74949696 1.67399775]\n",
      "Não alcançável\n",
      "x desejado: [3.01106402 2.32472213]  x encontrado: [3.01106402 2.32472213]\n",
      "x desejado: [1.37487589 4.0159314 ]  x encontrado: [1.37487589 4.0159314 ]\n",
      "x desejado: [2.05803606 2.05064341]  x encontrado: [2.05803606 2.05064341]\n",
      "x desejado: [1.41473606 2.75184958]  x encontrado: [1.41473606 2.75184958]\n",
      "Não alcançável\n",
      "Não alcançável\n",
      "x desejado: [1.21368538 1.7397121 ]  x encontrado: [1.21368538 1.7397121 ]\n",
      "x desejado: [3.30441192 4.22791767]  x encontrado: [3.30441192 4.22791767]\n",
      "x desejado: [1.97300338 3.68623108]  x encontrado: [1.97300338 3.68623108]\n",
      "x desejado: [3.55066332 3.93671813]  x encontrado: [3.55066332 3.93671813]\n",
      "x desejado: [3.3609512  2.94920199]  x encontrado: [3.3609512  2.94920199]\n",
      "Não alcançável\n",
      "x desejado: [4.38646808 2.99792718]  x encontrado: [4.38646808 2.99792718]\n",
      "Não alcançável\n",
      "x desejado: [3.42746243 2.90517118]  x encontrado: [3.42746243 2.90517118]\n"
     ]
    }
   ],
   "source": [
    "theta1, theta2 = (-np.pi/4, np.pi/4)\n",
    "R1, R2 = 3, 2.5\n",
    "\n",
    "for i in range(50):\n",
    "    xd = np.random.uniform(1, 5, [1, 2])[0]\n",
    "    try:\n",
    "        _, _, x = nr_2d(R1, R2, theta1, theta2, xd)\n",
    "        print(f\"x desejado: {xd}  x encontrado: {x}\")\n",
    "    except (ValueError, np.linalg.LinAlgError) as e:\n",
    "        print(e)"
   ]
  }
 ],
 "metadata": {
  "kernelspec": {
   "display_name": "Python 3",
   "language": "python",
   "name": "python3"
  },
  "language_info": {
   "codemirror_mode": {
    "name": "ipython",
    "version": 3
   },
   "file_extension": ".py",
   "mimetype": "text/x-python",
   "name": "python",
   "nbconvert_exporter": "python",
   "pygments_lexer": "ipython3",
   "version": "3.8.10"
  }
 },
 "nbformat": 4,
 "nbformat_minor": 4
}
