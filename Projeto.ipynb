{
 "cells": [
  {
   "cell_type": "code",
   "execution_count": 1,
   "metadata": {},
   "outputs": [],
   "source": [
    "import numpy as np\n",
    "import matplotlib.pyplot as plt"
   ]
  },
  {
   "cell_type": "code",
   "execution_count": 2,
   "metadata": {},
   "outputs": [],
   "source": [
    "from typing import Callable"
   ]
  },
  {
   "cell_type": "markdown",
   "metadata": {},
   "source": [
    "# Cinemática inversa numérica"
   ]
  },
  {
   "cell_type": "markdown",
   "metadata": {},
   "source": [
    "Sendo $x=f(\\theta)$ o vetor das posições referentes aos ângulos ($\\theta\\in\\mathbb{R}^n$), e $x_d \\in\\mathbb{R}^m$ as coordenadas desejadas, a solução será $\\theta_d$ tal que $g(\\theta_d)=x_d-f(\\theta_d)=0$."
   ]
  },
  {
   "cell_type": "markdown",
   "metadata": {},
   "source": [
    "Pelo método de Newton-Raphson, para resolver uma equação do tipo $g(\\theta)=0$ , se usa a expansão de Taylor de primeira ordem:\n",
    "\n",
    "$g(\\theta)=g(\\theta_0)+\\frac{\\partial g}{\\partial\\theta}\\Big|_{\\theta_0}(\\theta-\\theta_0)~~$\n",
    "$\\overset{g(\\theta)=0}{\\longrightarrow}~~$\n",
    "$\\theta=\\theta_0-\\Big(\\frac{\\partial g}{\\partial\\theta}\\Big|_{\\theta_0}\\Big)^{-1}g(\\theta_0)$\n",
    "\n",
    "Generalizando:\n",
    "\n",
    "$\\theta_{k+1}=\\theta_k-\\Big(\\frac{\\partial g}{\\partial\\theta}\\Big|_{\\theta_k}\\Big)^{-1}g(\\theta_k)$"
   ]
  },
  {
   "cell_type": "markdown",
   "metadata": {},
   "source": [
    "Com isso:\n",
    "\n",
    "$x_d=f(\\theta_d)=f(\\theta_0)+\\underset{J(\\theta_0)}{\\boxed{\\frac{\\partial f}{\\partial\\theta}\\Big|_{\\theta_0}}}\n",
    "\\cdot\\underset{\\Delta\\theta}{\\boxed{(\\theta_d-\\theta_0)}}~,~~J(\\theta_0)\\in\\mathbb{R}^{m\\times n}~\\Rightarrow~$\n",
    "$J(\\theta_0)\\Delta\\theta=x_d-f(\\theta_0)~\\Rightarrow$\n",
    "\n",
    "$\\theta_1=\\theta_0+\\Delta\\theta$\n",
    "\n",
    "Generalizando:\n",
    "\n",
    "$\\theta_{k+1}=\\theta_k+\\Delta\\theta_k$"
   ]
  },
  {
   "cell_type": "markdown",
   "metadata": {},
   "source": [
    "**Obs:** Sendo $f(\\theta) = \\big[f_1(\\theta)~,~~f_2(\\theta)~,~~\\cdots~,~~f_n(\\theta)\\big]$:\n",
    "\n",
    "$J(\\theta)=$\n",
    "$\\begin{bmatrix}\n",
    "\\frac{\\partial f_1}{\\partial\\theta_1}(\\theta)&\\cdots&\\frac{\\partial f_1}{\\partial\\theta_n}(\\theta)\\\\\n",
    "\\vdots&\\ddots&\\vdots\\\\\n",
    "\\frac{\\partial f_n}{\\partial\\theta_1}(\\theta)&\\cdots&\\frac{\\partial f_n}{\\partial\\theta_n}(\\theta)\n",
    "\\end{bmatrix}$"
   ]
  },
  {
   "cell_type": "markdown",
   "metadata": {},
   "source": [
    "## Caso para 1 dimensão"
   ]
  },
  {
   "cell_type": "markdown",
   "metadata": {},
   "source": [
    "O caso para 1 dimensão se resume em encontrar um ângulo referente a uma posição em um círculo. Pode-se usar o método de Newton."
   ]
  },
  {
   "cell_type": "markdown",
   "metadata": {},
   "source": [
    "### Método de Newton"
   ]
  },
  {
   "cell_type": "code",
   "execution_count": 3,
   "metadata": {},
   "outputs": [],
   "source": [
    "def nr(f: Callable[[float], float], df: Callable[[float], float], x: float, p: float) -> float:\n",
    "    # p = chute inicial\n",
    "    def g(w):\n",
    "        return f(w) - x\n",
    "    xl = p\n",
    "    # critérios de parada\n",
    "    N, e_stop = 50, 1e-8\n",
    "    iter, e = 0, 1\n",
    "    while iter < N-1 and e > e_stop:\n",
    "        xn = xl - g(xl)/df(xl)\n",
    "        e = xn\n",
    "        xl = xn\n",
    "        iter += 1\n",
    "\n",
    "    return xn"
   ]
  },
  {
   "cell_type": "code",
   "execution_count": 4,
   "metadata": {},
   "outputs": [],
   "source": [
    "R = 3\n",
    "\n",
    "def f_1d(theta: float) -> float:\n",
    "    return theta*R\n",
    "\n",
    "def d_f_1d(theta: float) -> float:\n",
    "    return R"
   ]
  },
  {
   "cell_type": "code",
   "execution_count": 5,
   "metadata": {
    "scrolled": false
   },
   "outputs": [
    {
     "name": "stdout",
     "output_type": "stream",
     "text": [
      "Valor de theta encontrado para x = 2: 0.6666666666666667\n",
      "Valor de x: 2.0\n"
     ]
    }
   ],
   "source": [
    "theta_nr = nr(f_1d, d_f_1d, 2, 0.7)\n",
    "print(f\"Valor de theta encontrado para x = 2: {theta_nr}\")\n",
    "print(f\"Valor de x: {f_1d(theta_nr)}\")"
   ]
  },
  {
   "cell_type": "markdown",
   "metadata": {},
   "source": [
    "## Caso para 2 dimensões"
   ]
  },
  {
   "cell_type": "markdown",
   "metadata": {},
   "source": [
    "$f=\\Big(f_1(\\theta_1,\\theta_2),~f_2(\\theta_1,\\theta_2)\\Big)=\\Big(R_1\\cos(\\theta_1)+R_2\\cos(\\theta_2),~R_1\\sin(\\theta_1)+R_2\\sin(\\theta_2)\\Big)$\n",
    "\n",
    "$J=\\begin{bmatrix}\\frac{\\partial f_1}{\\partial\\theta_1}&\\frac{\\partial f_1}{\\partial\\theta_2}\\\\\\frac{\\partial f_2}{\\partial\\theta_1}&\\frac{\\partial f_2}{\\partial\\theta_2}\\end{bmatrix}=$\n",
    "$\\begin{bmatrix}-R_1\\sin(\\theta_1)&-R_2\\sin(\\theta_2)\\\\R_1\\cos(\\theta_1)&R_2\\cos(\\theta_2)\\end{bmatrix}$"
   ]
  },
  {
   "cell_type": "markdown",
   "metadata": {},
   "source": [
    "**Newton-Raphson:**\n",
    "\n",
    "$\\begin{bmatrix}\n",
    "-R_1\\sin(\\theta_{1_k})&-R_2\\sin(\\theta_{2_k})\\\\\n",
    "R_1\\cos(\\theta_{1_k})&R_2\\cos(\\theta_{2_k})\n",
    "\\end{bmatrix}$\n",
    "$\\begin{bmatrix}\n",
    "\\theta_{1_{k+1}}-\\theta_{1_k}\\\\\n",
    "\\theta_{2_{k+1}}-\\theta_{2_k}\\\\\n",
    "\\end{bmatrix}=$\n",
    "$\\begin{bmatrix}\n",
    "x_{1_d}\\\\x_{2_d}\n",
    "\\end{bmatrix}-$\n",
    "$\\begin{bmatrix}\n",
    "R_1\\cos(\\theta_{1_k})+R_2\\cos(\\theta_{2_k})\\\\\n",
    "R_1\\sin(\\theta_{1_k})+R_2\\sin(\\theta_{2_k})\n",
    "\\end{bmatrix}$"
   ]
  },
  {
   "cell_type": "markdown",
   "metadata": {},
   "source": [
    "$\\begin{bmatrix}\n",
    "\\theta_{1_{k+1}}-\\theta_{1_k}\\\\\n",
    "\\theta_{2_{k+1}}-\\theta_{2_k}\n",
    "\\end{bmatrix}=\n",
    "\\begin{bmatrix}\n",
    "-R_1\\sin(\\theta_{1_k})&-R_2\\sin(\\theta_{2_k})\\\\\n",
    "R_1\\cos(\\theta_{1_k})&R_2\\cos(\\theta_{2_k})\n",
    "\\end{bmatrix}^{-1}\n",
    "\\begin{bmatrix}\n",
    "x_{1_d} - \\big(R_1\\cos(\\theta_{1_k})+R_2\\cos(\\theta_{2_k})\\big)\\\\\n",
    "x_{2_d} - \\big(R_1\\sin(\\theta_{1_k})+R_2\\sin(\\theta_{2_k})\\big)\n",
    "\\end{bmatrix}$\n",
    "\n",
    "$\\Theta = A^{-1}\\cdot\\Big[X-B\\Big]$"
   ]
  },
  {
   "cell_type": "code",
   "execution_count": 6,
   "metadata": {},
   "outputs": [],
   "source": [
    "def A_matrix_maker(R1, R2, theta1, theta2):\n",
    "    return [[-R1*np.sin(theta1), -R2*np.sin(theta2)], [R1*np.cos(theta1), R2*np.cos(theta2)]]\n",
    "def B_matrix_maker(R1, R2, theta1, theta2):\n",
    "    return [R1*np.cos(theta1)+R2*np.cos(theta2), R1*np.sin(theta1)+R2*np.sin(theta2)]"
   ]
  },
  {
   "cell_type": "code",
   "execution_count": 7,
   "metadata": {},
   "outputs": [],
   "source": [
    "def nr_2d(R1: float, R2: float, theta1: float, theta2: float, xd: list) -> tuple:\n",
    "    xd = np.asarray(xd)\n",
    "    mod = np.sqrt(xd[0]**2 + xd[1]**2)\n",
    "    if mod > R1+R2 or mod < abs(R1-R2):\n",
    "        raise ValueError(\"Não alcançável\")\n",
    "    loop = True\n",
    "    iter = 0\n",
    "    while loop:\n",
    "        iter += 1\n",
    "        A_matrix = np.asarray(A_matrix_maker(R1, R2, theta1, theta2))\n",
    "        B_matrix = np.asarray(B_matrix_maker(R1, R2, theta1, theta2))\n",
    "        Theta_vector = np.matmul(np.linalg.inv(A_matrix), xd - B_matrix)\n",
    "        theta1, theta2 = Theta_vector[0] + theta1, Theta_vector[1] + theta2\n",
    "        x = np.asarray(B_matrix_maker(R1, R2, theta1, theta2))\n",
    "        loop = iter < 50 and not np.allclose(xd, x, rtol=1e-10)\n",
    "    return theta1, theta2, x"
   ]
  },
  {
   "cell_type": "code",
   "execution_count": 8,
   "metadata": {},
   "outputs": [
    {
     "name": "stdout",
     "output_type": "stream",
     "text": [
      "x desejado: [3.27950919 3.37515939]  x encontrado: [3.27950919 3.37515939]\n",
      "x desejado: [3.39895115 1.15813893]  x encontrado: [3.39895115 1.15813893]\n",
      "x desejado: [2.91012615 1.74835055]  x encontrado: [2.91012615 1.74835055]\n",
      "x desejado: [4.57763314 1.81766928]  x encontrado: [4.57763314 1.81766928]\n",
      "x desejado: [3.27537885 2.55753354]  x encontrado: [3.27537885 2.55753354]\n",
      "x desejado: [1.27124021 3.52401226]  x encontrado: [1.27124021 3.52401226]\n",
      "x desejado: [2.43468875 1.64554663]  x encontrado: [2.43468875 1.64554663]\n",
      "x desejado: [1.09434304 4.40894812]  x encontrado: [1.09434304 4.40894812]\n",
      "x desejado: [1.03819874 3.19579221]  x encontrado: [1.03819874 3.19579221]\n",
      "Não alcançável\n",
      "x desejado: [3.23290669 4.39388109]  x encontrado: [3.23290669 4.39388109]\n",
      "x desejado: [1.13025934 4.53598133]  x encontrado: [1.13025934 4.53598133]\n",
      "x desejado: [3.5527137  1.70560788]  x encontrado: [3.55271369 1.70560788]\n",
      "x desejado: [2.08910161 3.56161323]  x encontrado: [2.08910161 3.56161323]\n",
      "x desejado: [3.38812356 1.43299994]  x encontrado: [3.38812356 1.43299994]\n",
      "x desejado: [4.28338321 2.74105277]  x encontrado: [4.28338321 2.74105277]\n",
      "x desejado: [1.56461152 1.74528609]  x encontrado: [1.56461152 1.74528609]\n",
      "x desejado: [3.05471597 1.38798027]  x encontrado: [3.05471597 1.38798027]\n",
      "x desejado: [3.6109046 1.9844057]  x encontrado: [3.6109046 1.9844057]\n",
      "x desejado: [3.83382742 1.93040849]  x encontrado: [3.83382742 1.93040849]\n",
      "x desejado: [2.43477006 2.97702242]  x encontrado: [2.43477006 2.97702242]\n",
      "x desejado: [3.83410156 2.144307  ]  x encontrado: [3.83410156 2.144307  ]\n",
      "x desejado: [3.67360247 1.13799352]  x encontrado: [3.67360247 1.13799352]\n",
      "x desejado: [3.25704352 3.3061166 ]  x encontrado: [3.25704352 3.3061166 ]\n",
      "x desejado: [4.58769404 2.1135746 ]  x encontrado: [4.58769404 2.1135746 ]\n",
      "Não alcançável\n",
      "x desejado: [3.06056606 3.89768449]  x encontrado: [3.06056606 3.89768449]\n",
      "x desejado: [3.87380032 2.57544969]  x encontrado: [3.87380032 2.57544969]\n",
      "Não alcançável\n",
      "Não alcançável\n",
      "x desejado: [2.71180277 1.63196916]  x encontrado: [2.71180277 1.63196916]\n",
      "Não alcançável\n",
      "x desejado: [1.98389771 2.88766416]  x encontrado: [1.98389771 2.88766416]\n",
      "x desejado: [2.02767839 2.83597907]  x encontrado: [2.02767839 2.83597907]\n",
      "Não alcançável\n",
      "x desejado: [3.32387638 1.80948072]  x encontrado: [3.32387638 1.80948072]\n",
      "x desejado: [2.50449349 3.1995822 ]  x encontrado: [2.50449349 3.1995822 ]\n",
      "x desejado: [3.30976897 1.2920498 ]  x encontrado: [3.30976896 1.2920498 ]\n",
      "x desejado: [2.08233557 1.15061567]  x encontrado: [2.08233557 1.15061567]\n",
      "x desejado: [2.0225747  2.31246411]  x encontrado: [2.0225747  2.31246411]\n",
      "Não alcançável\n",
      "x desejado: [1.55188064 2.48694325]  x encontrado: [1.55188064 2.48694325]\n",
      "Não alcançável\n",
      "x desejado: [1.01311088 3.43446875]  x encontrado: [1.01311088 3.43446875]\n",
      "x desejado: [3.07796335 1.89606752]  x encontrado: [3.07796335 1.89606752]\n",
      "x desejado: [3.07534507 1.6079358 ]  x encontrado: [3.07534507 1.6079358 ]\n",
      "x desejado: [1.17695676 3.37636037]  x encontrado: [1.17695676 3.37636037]\n",
      "Não alcançável\n",
      "x desejado: [2.35218367 4.83195318]  x encontrado: [2.35218367 4.83195318]\n",
      "x desejado: [1.67466229 2.3011404 ]  x encontrado: [1.67466229 2.3011404 ]\n"
     ]
    }
   ],
   "source": [
    "theta1, theta2 = (-np.pi/4, np.pi/4)\n",
    "R1, R2 = 3, 2.5\n",
    "\n",
    "for i in range(50):\n",
    "    xd = np.random.uniform(1, 5, [1, 2])[0]\n",
    "    try:\n",
    "        _, _, x = nr_2d(R1, R2, theta1, theta2, xd)\n",
    "        print(f\"x desejado: {xd}  x encontrado: {x}\")\n",
    "    except (ValueError, np.linalg.LinAlgError) as e:\n",
    "        print(e)"
   ]
  },
  {
   "cell_type": "markdown",
   "metadata": {},
   "source": [
    "## Caso para 3 dimensões"
   ]
  },
  {
   "cell_type": "markdown",
   "metadata": {},
   "source": [
    "$f=\\Big(f_1(\\theta_1,\\theta_2,\\theta_3),~f_2(\\theta_1,\\theta_2,\\theta_3),~f_3(\\theta_1,\\theta_2,\\theta_3)\\Big)=\\Big(\\big[R1\\cos\\theta_1+R_2\\cos\\theta_2\\big]\\sin\\theta_3,~\\big[R1\\cos\\theta_1+R_2\\cos\\theta_2\\big]\\cos\\theta_3,~R1\\sin\\theta_1+R_2\\sin\\theta_2\\Big)$\n",
    "\n",
    "$J=\\begin{bmatrix}\\frac{\\partial f_1}{\\partial\\theta_1}&\\frac{\\partial f_1}{\\partial\\theta_2}&\\frac{\\partial f_1}{\\partial\\theta_3}\\\\\\frac{\\partial f_2}{\\partial\\theta_1}&\\frac{\\partial f_2}{\\partial\\theta_2}&\\frac{\\partial f_2}{\\partial\\theta_3}\\\\\\frac{\\partial f_3}{\\partial\\theta_1}&\\frac{\\partial f_3}{\\partial\\theta_2}&\\frac{\\partial f_3}{\\partial\\theta_1}\\end{bmatrix}=$\n",
    "$\\begin{bmatrix}-R1\\sin\\theta_1\\sin\\theta_3&-R2\\sin\\theta_2\\sin\\theta_3&\\big[R1\\cos\\theta_1+R_2\\cos\\theta_2\\big]\\cos\\theta_3\\\\-R1\\sin\\theta_1\\cos\\theta_3&-R2\\sin\\theta_2\\cos\\theta_3&-\\big[R1\\cos\\theta_1+R_2\\cos\\theta_2\\big]\\sin\\theta_3\\\\R1\\cos\\theta_1&R2\\cos\\theta_2&0\\end{bmatrix}$"
   ]
  },
  {
   "cell_type": "markdown",
   "metadata": {},
   "source": [
    "**Newton-Raphson:**\n",
    "\n",
    "$\\begin{bmatrix}\\theta_{1_{k+1}}-\\theta_{1_{k}}\\\\\\theta_{2_{k+1}}-\\theta_2{_{k}}\\\\\\theta_{3_{k+1}}-\\theta_{3_{k}}\\end{bmatrix}=$\n",
    "$\\begin{bmatrix}-R1\\sin\\theta_{1_{k}}\\sin\\theta_{3_{k}}&-R2\\sin\\theta_{2_{k}}\\sin\\theta_{3_{k}}&\\big[R1\\cos\\theta_{1_{k}}+R_2\\cos\\theta_{2_{k}}\\big]\\cos\\theta_{3_{k}}\\\\-R1\\sin\\theta_{1_{k}}\\cos\\theta_{3_{k}}&-R2\\sin\\theta_{2_{k}}\\cos\\theta_{3_{k}}&-\\big[R1\\cos\\theta_{1_{k}}+R_2\\cos\\theta_{2_{k}}\\big]\\sin\\theta_{3_{k}}\\\\R1\\cos\\theta_{1_{k}}&R2\\cos\\theta_{2_{k}}&0\\end{bmatrix}^{-1}$\n",
    "$\\begin{bmatrix}x_{1_d}-\\big[R1\\cos\\theta_{1_{k}}+R_2\\cos\\theta_{2_{k}}\\big]\\sin\\theta_{3_{k}}\\\\x_{2_d}-\\big[R1\\cos\\theta_{1_{k}}+R_2\\cos\\theta_{2_{k}}\\big]\\cos\\theta_{3_{k}}\\\\x_{3_d}-R1\\sin\\theta_{1_{k}}+R_2\\sin\\theta_{2_{k}}\\end{bmatrix}$\n",
    "\n",
    "$\\Theta_3 = A_3^{-1}\\cdot\\Big[X-B_3\\Big]$"
   ]
  },
  {
   "cell_type": "code",
   "execution_count": 9,
   "metadata": {},
   "outputs": [],
   "source": [
    "def A3_matrix_maker(R1, R2, theta1, theta2, theta3):\n",
    "    return [\n",
    "        [-R1*np.sin(theta1)*np.sin(theta3),\n",
    "         -R2*np.sin(theta2)*np.sin(theta3),\n",
    "         (R1*np.cos(theta1)+R2*np.cos(theta2))*np.cos(theta3)],\n",
    "        [-R1*np.sin(theta1)*np.cos(theta3),\n",
    "         -R2*np.sin(theta2)*np.cos(theta3),\n",
    "         -(R1*np.cos(theta1)+R2*np.cos(theta2))*np.sin(theta3)],\n",
    "        [R1*np.cos(theta1), R2*np.cos(theta2), 0]\n",
    "    ]\n",
    "def B3_matrix_maker(R1, R2, theta1, theta2, theta3):\n",
    "    return [\n",
    "        (R1*np.cos(theta1)+R2*np.cos(theta2))*np.sin(theta3),\n",
    "        (R1*np.cos(theta1)+R2*np.cos(theta2))*np.cos(theta3),\n",
    "        R1*np.sin(theta1)+R2*np.sin(theta2)\n",
    "    ]"
   ]
  },
  {
   "cell_type": "code",
   "execution_count": 10,
   "metadata": {},
   "outputs": [],
   "source": [
    "def nr_3d(R1: float, R2: float, theta1: float, theta2: float, theta3: float, xd: list) -> tuple:\n",
    "    xd = np.asarray(xd)\n",
    "    mod = np.sqrt(xd[0]**2 + xd[1]**2 + xd[2]**2)\n",
    "    if mod > R1+R2 or mod < abs(R1-R2):\n",
    "        raise ValueError(\"Não alcançável\")\n",
    "    loop = True\n",
    "    iter = 0\n",
    "    while loop:\n",
    "        iter += 1\n",
    "        A_matrix = np.asarray(A3_matrix_maker(R1, R2, theta1, theta2, theta3))\n",
    "        B_matrix = np.asarray(B3_matrix_maker(R1, R2, theta1, theta2, theta3))\n",
    "        Theta_vector = np.matmul(np.linalg.inv(A_matrix), xd - B_matrix)\n",
    "        theta1, theta2, theta3 = Theta_vector[0] + theta1, Theta_vector[1] + theta2, Theta_vector[2] + theta3\n",
    "        x = np.asarray(B3_matrix_maker(R1, R2, theta1, theta2, theta3))\n",
    "        loop = iter < 50 and not np.allclose(xd, x, rtol=1e-10)\n",
    "    return theta1, theta2, theta3, x"
   ]
  },
  {
   "cell_type": "code",
   "execution_count": 11,
   "metadata": {},
   "outputs": [
    {
     "name": "stdout",
     "output_type": "stream",
     "text": [
      "x desejado: [1.3661579  1.02718404 3.9802076 ]  x encontrado: [1.3661579  1.02718404 3.9802076 ]\n",
      "x desejado: [3.87499361 1.85839905 1.16442291]  x encontrado: [3.87499361 1.85839905 1.16442291]\n",
      "x desejado: [3.64437989 3.02237839 2.23978571]  x encontrado: [3.64437989 3.02237839 2.23978571]\n",
      "x desejado: [1.53103677 2.49793271 2.75114668]  x encontrado: [1.53103677 2.49793271 2.75114668]\n",
      "x desejado: [3.36714472 1.42631967 3.25049635]  x encontrado: [3.36714472 1.42631967 3.25049635]\n",
      "Não alcançável\n",
      "x desejado: [2.65914618 3.52945569 2.29183846]  x encontrado: [2.65914618 3.52945568 2.29183846]\n",
      "Não alcançável\n",
      "Não alcançável\n",
      "x desejado: [4.20477644 2.11486228 1.38376812]  x encontrado: [4.20477644 2.11486228 1.38376812]\n",
      "x desejado: [3.74595614 3.43086377 1.62006881]  x encontrado: [3.74595614 3.43086377 1.62006881]\n",
      "x desejado: [1.34717302 1.69375338 1.19369754]  x encontrado: [1.34717302 1.69375338 1.19369754]\n",
      "Não alcançável\n",
      "x desejado: [3.35701821 2.2850249  2.05791153]  x encontrado: [3.35701821 2.2850249  2.05791153]\n",
      "x desejado: [2.19365887 2.44851576 1.36535253]  x encontrado: [2.19365886 2.44851575 1.36535253]\n",
      "Não alcançável\n",
      "Não alcançável\n",
      "x desejado: [3.72033008 1.15306717 2.6321298 ]  x encontrado: [3.72033007 1.15306717 2.6321298 ]\n",
      "x desejado: [1.44530303 1.34267543 1.99957979]  x encontrado: [1.44530303 1.34267543 1.99957979]\n",
      "x desejado: [1.20115326 1.8205226  3.5557286 ]  x encontrado: [1.20115326 1.8205226  3.5557286 ]\n",
      "x desejado: [1.47893701 3.54885214 1.11451868]  x encontrado: [1.47893701 3.54885213 1.11451867]\n",
      "x desejado: [4.1312524  1.34541202 2.49326567]  x encontrado: [4.1312524  1.34541202 2.49326567]\n",
      "x desejado: [2.73544838 1.80197548 4.26231621]  x encontrado: [2.73544838 1.80197548 4.26231621]\n",
      "x desejado: [2.78384696 1.37591685 2.6869807 ]  x encontrado: [2.78384696 1.37591685 2.6869807 ]\n",
      "Não alcançável\n",
      "x desejado: [2.98708129 2.76246158 3.23124723]  x encontrado: [2.98708129 2.76246158 3.23124723]\n",
      "Não alcançável\n",
      "Não alcançável\n",
      "Não alcançável\n",
      "x desejado: [4.08293881 1.36309065 1.89022201]  x encontrado: [4.08293881 1.36309065 1.89022201]\n",
      "Não alcançável\n",
      "x desejado: [2.61360568 1.92728685 2.06195135]  x encontrado: [2.61360568 1.92728685 2.06195135]\n",
      "Não alcançável\n",
      "x desejado: [2.21787493 2.8249287  3.57018324]  x encontrado: [2.21787493 2.8249287  3.57018324]\n",
      "Não alcançável\n",
      "x desejado: [3.52595966 3.67317041 1.14718632]  x encontrado: [3.52595966 3.67317041 1.14718632]\n",
      "x desejado: [3.45860736 1.83660275 2.76778177]  x encontrado: [3.45860736 1.83660275 2.76778177]\n",
      "x desejado: [1.29392292 1.84777154 3.01633443]  x encontrado: [1.29392292 1.84777154 3.01633443]\n",
      "x desejado: [2.2617378  1.1933727  3.05537919]  x encontrado: [2.2617378  1.1933727  3.05537919]\n",
      "Não alcançável\n",
      "x desejado: [1.21937612 3.06971106 3.9937982 ]  x encontrado: [1.21937612 3.06971106 3.9937982 ]\n",
      "x desejado: [2.08924778 2.64854322 4.00139418]  x encontrado: [2.08924778 2.64854322 4.00139418]\n",
      "x desejado: [2.12400145 1.0954946  2.4342344 ]  x encontrado: [2.12400145 1.0954946  2.4342344 ]\n",
      "x desejado: [1.46859484 1.27082555 1.47313247]  x encontrado: [1.46859484 1.27082555 1.47313247]\n",
      "x desejado: [2.29298784 3.55214746 1.79227857]  x encontrado: [2.29298784 3.55214746 1.79227857]\n",
      "x desejado: [4.16290604 3.3238959  1.03256299]  x encontrado: [4.16290604 3.3238959  1.03256299]\n",
      "x desejado: [4.10360774 1.3395343  3.34189394]  x encontrado: [4.10360774 1.3395343  3.34189394]\n",
      "Não alcançável\n",
      "x desejado: [2.37617536 1.17022475 2.13696235]  x encontrado: [2.37617536 1.17022475 2.13696234]\n",
      "Não alcançável\n"
     ]
    }
   ],
   "source": [
    "theta1, theta2, theta3 = (-np.pi/4, np.pi/4, np.pi/4)\n",
    "R1, R2 = 3, 2.5\n",
    "\n",
    "for i in range(50):\n",
    "    xd = np.random.uniform(1, 4.5, [1, 3])[0]\n",
    "    try:\n",
    "        _, _, _, x = nr_3d(R1, R2, theta1, theta2, theta3, xd)\n",
    "        print(f\"x desejado: {xd}  x encontrado: {x}\")\n",
    "    except (ValueError, np.linalg.LinAlgError) as e:\n",
    "        print(e)"
   ]
  }
 ],
 "metadata": {
  "kernelspec": {
   "display_name": "Python 3",
   "language": "python",
   "name": "python3"
  },
  "language_info": {
   "codemirror_mode": {
    "name": "ipython",
    "version": 3
   },
   "file_extension": ".py",
   "mimetype": "text/x-python",
   "name": "python",
   "nbconvert_exporter": "python",
   "pygments_lexer": "ipython3",
   "version": "3.8.10"
  }
 },
 "nbformat": 4,
 "nbformat_minor": 4
}
