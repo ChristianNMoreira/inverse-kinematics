{
 "cells": [
  {
   "cell_type": "code",
   "execution_count": 1,
   "metadata": {},
   "outputs": [],
   "source": [
    "import numpy as np\n",
    "import matplotlib.pyplot as plt\n",
    "from mpl_toolkits import mplot3d"
   ]
  },
  {
   "cell_type": "code",
   "execution_count": 2,
   "metadata": {},
   "outputs": [],
   "source": [
    "from typing import Callable"
   ]
  },
  {
   "cell_type": "code",
   "execution_count": 3,
   "metadata": {},
   "outputs": [],
   "source": [
    "from IPython.display import Image"
   ]
  },
  {
   "cell_type": "markdown",
   "metadata": {},
   "source": [
    "# Cinemática inversa\n",
    "\n",
    "O objeto de estudo na cinemática inversa são os braços robóticos. A saída desse sistema será a posição do braço no espaço. Na cinemátida direta, a entrada do sistema são os ângulos das juntas robóticas.\n",
    "\n",
    "Dessa forma, cabe ao responsável pelo input realizar cálculos para descobrir os ângulos referentes às posições desejadas.\n",
    "\n",
    "Já na cinemática inversa, o input é a posição desejada. Com isso, o sistema deve encontrar os ângulos referentes de forma numérica."
   ]
  },
  {
   "cell_type": "markdown",
   "metadata": {},
   "source": [
    "# Cinemática inversa numérica"
   ]
  },
  {
   "cell_type": "markdown",
   "metadata": {},
   "source": [
    "Sendo $x=f(\\theta)$ o vetor das posições referentes aos ângulos ($\\theta\\in\\mathbb{R}^n$), e $x_d \\in\\mathbb{R}^m$ as coordenadas desejadas, a solução será $\\theta_d$ tal que $g(\\theta_d)=x_d-f(\\theta_d)=0$."
   ]
  },
  {
   "cell_type": "markdown",
   "metadata": {},
   "source": [
    "Pelo método de Newton-Raphson, para resolver uma equação do tipo $g(\\theta)=0$ , se usa a expansão de Taylor de primeira ordem:\n",
    "\n",
    "$g(\\theta)=g(\\theta_0)+\\frac{\\partial g}{\\partial\\theta}\\Big|_{\\theta_0}(\\theta-\\theta_0)~~$\n",
    "$\\overset{g(\\theta)=0}{\\longrightarrow}~~$\n",
    "$\\theta=\\theta_0-\\Big(\\frac{\\partial g}{\\partial\\theta}\\Big|_{\\theta_0}\\Big)^{-1}g(\\theta_0)$\n",
    "\n",
    "Generalizando:\n",
    "\n",
    "$\\theta_{k+1}=\\theta_k-\\Big(\\frac{\\partial g}{\\partial\\theta}\\Big|_{\\theta_k}\\Big)^{-1}g(\\theta_k)$"
   ]
  },
  {
   "cell_type": "markdown",
   "metadata": {},
   "source": [
    "Com isso:\n",
    "\n",
    "$x_d=f(\\theta_d)=f(\\theta_0)+\\underset{J(\\theta_0)}{\\boxed{\\frac{\\partial f}{\\partial\\theta}\\Big|_{\\theta_0}}}\n",
    "\\cdot\\underset{\\Delta\\theta}{\\boxed{(\\theta_d-\\theta_0)}}~,~~J(\\theta_0)\\in\\mathbb{R}^{m\\times n}~\\Rightarrow~$\n",
    "$J(\\theta_0)\\Delta\\theta=x_d-f(\\theta_0)~\\Rightarrow$\n",
    "\n",
    "$\\theta_1=\\theta_0+\\Delta\\theta$\n",
    "\n",
    "Generalizando:\n",
    "\n",
    "$\\theta_{k+1}=\\theta_k+\\Delta\\theta_k$"
   ]
  },
  {
   "cell_type": "markdown",
   "metadata": {},
   "source": [
    "**Obs:** Sendo $f(\\theta) = \\big[f_1(\\theta)~,~~f_2(\\theta)~,~~\\cdots~,~~f_n(\\theta)\\big]$:\n",
    "\n",
    "$J(\\theta)=$\n",
    "$\\begin{bmatrix}\n",
    "\\frac{\\partial f_1}{\\partial\\theta_1}(\\theta)&\\cdots&\\frac{\\partial f_1}{\\partial\\theta_n}(\\theta)\\\\\n",
    "\\vdots&\\ddots&\\vdots\\\\\n",
    "\\frac{\\partial f_n}{\\partial\\theta_1}(\\theta)&\\cdots&\\frac{\\partial f_n}{\\partial\\theta_n}(\\theta)\n",
    "\\end{bmatrix}$"
   ]
  },
  {
   "cell_type": "markdown",
   "metadata": {},
   "source": [
    "## Caso para 1 dimensão"
   ]
  },
  {
   "cell_type": "markdown",
   "metadata": {},
   "source": [
    "O caso para 1 dimensão se resume em encontrar um ângulo referente a uma posição em um círculo. Pode-se usar o método de Newton."
   ]
  },
  {
   "cell_type": "markdown",
   "metadata": {},
   "source": [
    "![Um grau de liberdade](img/1d.jpeg)"
   ]
  },
  {
   "cell_type": "markdown",
   "metadata": {},
   "source": [
    "### Método de Newton"
   ]
  },
  {
   "cell_type": "code",
   "execution_count": 4,
   "metadata": {},
   "outputs": [],
   "source": [
    "def nr(f: Callable[[float], float], df: Callable[[float], float], x: float, p: float) -> float:\n",
    "    # p = chute inicial\n",
    "    def g(w):\n",
    "        return f(w) - x\n",
    "    xl = p\n",
    "    # critérios de parada\n",
    "    N, e_stop = 50, 1e-8\n",
    "    iter, e = 0, 1\n",
    "    while iter < N-1 and e > e_stop:\n",
    "        xn = xl - g(xl)/df(xl)\n",
    "        e = xn\n",
    "        xl = xn\n",
    "        iter += 1\n",
    "\n",
    "    return xn"
   ]
  },
  {
   "cell_type": "code",
   "execution_count": 5,
   "metadata": {},
   "outputs": [],
   "source": [
    "R = 3\n",
    "\n",
    "def f_1d(theta: float) -> float:\n",
    "    return theta*R\n",
    "\n",
    "def d_f_1d(theta: float) -> float:\n",
    "    return R"
   ]
  },
  {
   "cell_type": "code",
   "execution_count": 6,
   "metadata": {},
   "outputs": [
    {
     "name": "stdout",
     "output_type": "stream",
     "text": [
      "x desejado: 3.8629209202651884  x encontrado: 3.8629209202651884 Erro: 0.0\n",
      "x desejado: 1.3816498339276522  x encontrado: 1.3816498339276522 Erro: 0.0\n",
      "x desejado: 4.441615048900564  x encontrado: 4.441615048900564 Erro: 0.0\n",
      "x desejado: 2.88757456182466  x encontrado: 2.88757456182466 Erro: 0.0\n",
      "x desejado: 1.321192364665496  x encontrado: 1.321192364665496 Erro: 0.0\n",
      "x desejado: 3.649081750127809  x encontrado: 3.649081750127809 Erro: 0.0\n",
      "x desejado: 3.2744088996608767  x encontrado: 3.2744088996608767 Erro: 0.0\n",
      "x desejado: 2.696220232568791  x encontrado: 2.696220232568791 Erro: 0.0\n",
      "x desejado: 0.40630966909308286  x encontrado: 0.40630966909308286 Erro: 0.0\n",
      "x desejado: 3.2360664774080568  x encontrado: 3.236066477408057 Erro: 4.440892098500626e-16\n",
      "x desejado: 2.876189608984091  x encontrado: 2.876189608984091 Erro: 0.0\n",
      "x desejado: 3.950921467754674  x encontrado: 3.950921467754674 Erro: 0.0\n",
      "x desejado: 1.8154673902788798  x encontrado: 1.8154673902788798 Erro: 0.0\n",
      "x desejado: 3.9255615367685803  x encontrado: 3.9255615367685808 Erro: 4.440892098500626e-16\n",
      "x desejado: 3.8684687938292486  x encontrado: 3.8684687938292486 Erro: 0.0\n",
      "x desejado: 2.074963557713559  x encontrado: 2.074963557713559 Erro: 0.0\n",
      "x desejado: 4.68095554002025  x encontrado: 4.68095554002025 Erro: 0.0\n",
      "x desejado: 1.0579964068749388  x encontrado: 1.0579964068749388 Erro: 0.0\n",
      "x desejado: 0.06083710065560188  x encontrado: 0.06083710065560188 Erro: 0.0\n",
      "x desejado: 2.534725164113838  x encontrado: 2.534725164113838 Erro: 0.0\n",
      "x desejado: 4.555062670883171  x encontrado: 4.555062670883171 Erro: 0.0\n",
      "x desejado: 2.037002152245051  x encontrado: 2.037002152245051 Erro: 0.0\n",
      "x desejado: 3.7190919770836697  x encontrado: 3.7190919770836697 Erro: 0.0\n",
      "x desejado: 4.389307928280985  x encontrado: 4.389307928280985 Erro: 0.0\n",
      "x desejado: 0.7338298509570973  x encontrado: 0.7338298509570973 Erro: 0.0\n",
      "x desejado: 2.1030243433948677  x encontrado: 2.1030243433948677 Erro: 0.0\n",
      "x desejado: 1.9951469437928404  x encontrado: 1.9951469437928404 Erro: 0.0\n",
      "x desejado: 1.9960581844487935  x encontrado: 1.9960581844487937 Erro: 2.220446049250313e-16\n",
      "x desejado: 1.3382209307611141  x encontrado: 1.3382209307611141 Erro: 0.0\n",
      "x desejado: 3.9572772113662498  x encontrado: 3.9572772113662498 Erro: 0.0\n",
      "x desejado: 1.2788311825888155  x encontrado: 1.2788311825888155 Erro: 0.0\n",
      "x desejado: 0.6253552519917  x encontrado: 0.6253552519917 Erro: 0.0\n",
      "x desejado: 0.22692914824484156  x encontrado: 0.22692914824484156 Erro: 0.0\n",
      "x desejado: 4.540254526042924  x encontrado: 4.540254526042924 Erro: 0.0\n",
      "x desejado: 0.32595191491296305  x encontrado: 0.32595191491296305 Erro: 0.0\n",
      "x desejado: 2.570831697533195  x encontrado: 2.570831697533195 Erro: 0.0\n",
      "x desejado: 2.753151012646086  x encontrado: 2.753151012646086 Erro: 0.0\n",
      "x desejado: 0.9261738424932908  x encontrado: 0.9261738424932908 Erro: 0.0\n",
      "x desejado: 1.7060951787238738  x encontrado: 1.7060951787238738 Erro: 0.0\n",
      "x desejado: 2.8417655093652545  x encontrado: 2.8417655093652545 Erro: 0.0\n",
      "x desejado: 1.2092832370833144  x encontrado: 1.2092832370833144 Erro: 0.0\n",
      "x desejado: 4.712356636020191  x encontrado: 4.712356636020191 Erro: 0.0\n",
      "x desejado: 2.051247839697703  x encontrado: 2.051247839697703 Erro: 0.0\n",
      "x desejado: 3.384565903735507  x encontrado: 3.384565903735507 Erro: 0.0\n",
      "x desejado: 0.3339771949512427  x encontrado: 0.3339771949512427 Erro: 0.0\n",
      "x desejado: 2.9861713067067037  x encontrado: 2.9861713067067037 Erro: 0.0\n",
      "x desejado: 0.7952812436597201  x encontrado: 0.7952812436597201 Erro: 0.0\n",
      "x desejado: 2.8639072180712626  x encontrado: 2.8639072180712626 Erro: 0.0\n",
      "x desejado: 4.794335675095987  x encontrado: 4.794335675095987 Erro: 0.0\n",
      "x desejado: 1.6677940218140452  x encontrado: 1.6677940218140452 Erro: 0.0\n"
     ]
    }
   ],
   "source": [
    "for i in range(50):\n",
    "    xd = np.random.uniform(0, 5, [1, 2])[0][0]\n",
    "    try:\n",
    "        theta_nr = nr(f_1d, d_f_1d, xd, 0.7)\n",
    "        x = f_1d(theta_nr)\n",
    "        print(f\"x desejado: {xd}  x encontrado: {x} Erro: {np.sqrt(abs(xd - x)**2)}\")\n",
    "    except (ValueError, np.linalg.LinAlgError) as e:\n",
    "        print(e)"
   ]
  },
  {
   "cell_type": "markdown",
   "metadata": {},
   "source": [
    "## Caso para 2 dimensões"
   ]
  },
  {
   "cell_type": "markdown",
   "metadata": {},
   "source": [
    "![Dois graus de liberdade](img/2d.jpeg)"
   ]
  },
  {
   "cell_type": "markdown",
   "metadata": {},
   "source": [
    "$f=\\Big(f_1(\\theta_1,\\theta_2),~f_2(\\theta_1,\\theta_2)\\Big)=\\Big(R_1\\cos(\\theta_1)+R_2\\cos(\\theta_2),~R_1\\sin(\\theta_1)+R_2\\sin(\\theta_2)\\Big)$\n",
    "\n",
    "$J=\\begin{bmatrix}\\frac{\\partial f_1}{\\partial\\theta_1}&\\frac{\\partial f_1}{\\partial\\theta_2}\\\\\\frac{\\partial f_2}{\\partial\\theta_1}&\\frac{\\partial f_2}{\\partial\\theta_2}\\end{bmatrix}=$\n",
    "$\\begin{bmatrix}-R_1\\sin(\\theta_1)&-R_2\\sin(\\theta_2)\\\\R_1\\cos(\\theta_1)&R_2\\cos(\\theta_2)\\end{bmatrix}$"
   ]
  },
  {
   "cell_type": "markdown",
   "metadata": {},
   "source": [
    "**Newton-Raphson:**\n",
    "\n",
    "$\\begin{bmatrix}\n",
    "-R_1\\sin(\\theta_{1_k})&-R_2\\sin(\\theta_{2_k})\\\\\n",
    "R_1\\cos(\\theta_{1_k})&R_2\\cos(\\theta_{2_k})\n",
    "\\end{bmatrix}$\n",
    "$\\begin{bmatrix}\n",
    "\\theta_{1_{k+1}}-\\theta_{1_k}\\\\\n",
    "\\theta_{2_{k+1}}-\\theta_{2_k}\\\\\n",
    "\\end{bmatrix}=$\n",
    "$\\begin{bmatrix}\n",
    "x_{1_d}\\\\x_{2_d}\n",
    "\\end{bmatrix}-$\n",
    "$\\begin{bmatrix}\n",
    "R_1\\cos(\\theta_{1_k})+R_2\\cos(\\theta_{2_k})\\\\\n",
    "R_1\\sin(\\theta_{1_k})+R_2\\sin(\\theta_{2_k})\n",
    "\\end{bmatrix}$"
   ]
  },
  {
   "cell_type": "markdown",
   "metadata": {},
   "source": [
    "$\\begin{bmatrix}\n",
    "\\theta_{1_{k+1}}-\\theta_{1_k}\\\\\n",
    "\\theta_{2_{k+1}}-\\theta_{2_k}\n",
    "\\end{bmatrix}=\n",
    "\\begin{bmatrix}\n",
    "-R_1\\sin(\\theta_{1_k})&-R_2\\sin(\\theta_{2_k})\\\\\n",
    "R_1\\cos(\\theta_{1_k})&R_2\\cos(\\theta_{2_k})\n",
    "\\end{bmatrix}^{-1}\n",
    "\\begin{bmatrix}\n",
    "x_{1_d} - \\big(R_1\\cos(\\theta_{1_k})+R_2\\cos(\\theta_{2_k})\\big)\\\\\n",
    "x_{2_d} - \\big(R_1\\sin(\\theta_{1_k})+R_2\\sin(\\theta_{2_k})\\big)\n",
    "\\end{bmatrix}$\n",
    "\n",
    "$\\Theta = A^{-1}\\cdot\\Big[X-B\\Big]$"
   ]
  },
  {
   "cell_type": "code",
   "execution_count": 7,
   "metadata": {},
   "outputs": [],
   "source": [
    "def A_matrix_maker(R1, R2, theta1, theta2):\n",
    "    return [[-R1*np.sin(theta1), -R2*np.sin(theta2)], [R1*np.cos(theta1), R2*np.cos(theta2)]]\n",
    "def B_matrix_maker(R1, R2, theta1, theta2):\n",
    "    return [R1*np.cos(theta1)+R2*np.cos(theta2), R1*np.sin(theta1)+R2*np.sin(theta2)]"
   ]
  },
  {
   "cell_type": "code",
   "execution_count": 8,
   "metadata": {},
   "outputs": [],
   "source": [
    "def nr_2d(R1: float, R2: float, theta1: float, theta2: float, xd: list) -> tuple:\n",
    "    xd = np.asarray(xd)\n",
    "    mod = np.sqrt(xd[0]**2 + xd[1]**2)\n",
    "    if mod > R1+R2 or mod < abs(R1-R2):\n",
    "        raise ValueError(\"Não alcançável\")\n",
    "    loop = True\n",
    "    iter = 0\n",
    "    while loop:\n",
    "        iter += 1\n",
    "        A_matrix = np.asarray(A_matrix_maker(R1, R2, theta1, theta2))\n",
    "        B_matrix = np.asarray(B_matrix_maker(R1, R2, theta1, theta2))\n",
    "        Theta_vector = np.matmul(np.linalg.inv(A_matrix), xd - B_matrix)\n",
    "        theta1, theta2 = Theta_vector[0] + theta1, Theta_vector[1] + theta2\n",
    "        x = np.asarray(B_matrix_maker(R1, R2, theta1, theta2))\n",
    "        loop = iter < 50 and not np.allclose(xd, x, rtol=1e-10)\n",
    "    return theta1, theta2, x"
   ]
  },
  {
   "cell_type": "code",
   "execution_count": 9,
   "metadata": {},
   "outputs": [
    {
     "name": "stdout",
     "output_type": "stream",
     "text": [
      "x desejado: [1.94974385 3.88208398]  x encontrado: [1.94974385 3.88208398] Erro: 5.53068701947268e-12\n",
      "x desejado: [1.81628075 1.47079177]  x encontrado: [1.81628075 1.47079177] Erro: 9.099609954432708e-11\n",
      "x desejado: [3.65548895 3.32534236]  x encontrado: [3.65548895 3.32534236] Erro: 7.993605777301127e-15\n",
      "x desejado: [4.278628  1.4511757]  x encontrado: [4.278628  1.4511757] Erro: 0.0\n",
      "x desejado: [1.68484676 1.23255194]  x encontrado: [1.68484676 1.23255194] Erro: 1.2050878073210924e-09\n",
      "Não alcançável\n",
      "x desejado: [2.54856845 3.63187689]  x encontrado: [2.54856845 3.63187689] Erro: 1.1293259660760668e-09\n",
      "Não alcançável\n",
      "x desejado: [4.58200651 2.19331248]  x encontrado: [4.58200651 2.19331247] Erro: 2.0874617590038724e-09\n",
      "x desejado: [3.14398259 1.86097837]  x encontrado: [3.14398259 1.86097837] Erro: 1.1102230246251565e-14\n",
      "x desejado: [4.45138895 2.46497268]  x encontrado: [4.45138895 2.46497268] Erro: 1.1554828205362355e-08\n",
      "x desejado: [3.8355433  1.21279265]  x encontrado: [3.8355433  1.21279265] Erro: 1.3875611770686191e-10\n",
      "Não alcançável\n",
      "x desejado: [1.00824076 4.58365092]  x encontrado: [1.00824076 4.58365092] Erro: 3.0446045684584533e-10\n",
      "Não alcançável\n",
      "x desejado: [2.99574525 4.25527092]  x encontrado: [2.99574525 4.25527092] Erro: 2.220446049250313e-15\n",
      "x desejado: [2.68308041 2.6740203 ]  x encontrado: [2.68308041 2.6740203 ] Erro: 3.1860869498245847e-10\n",
      "Não alcançável\n",
      "x desejado: [4.84311573 1.65456972]  x encontrado: [4.84311573 1.65456972] Erro: 1.8090107190005256e-10\n",
      "x desejado: [3.95039141 3.22792349]  x encontrado: [3.95039141 3.22792349] Erro: 2.0339285811132868e-13\n",
      "x desejado: [2.07277236 3.92329656]  x encontrado: [2.07277236 3.92329656] Erro: 4.884981308350689e-15\n",
      "x desejado: [4.57539611 2.06142639]  x encontrado: [4.57539611 2.06142639] Erro: 2.601812099101153e-10\n",
      "x desejado: [4.3040803  2.78008679]  x encontrado: [4.3040803  2.78008679] Erro: 5.773159728050814e-15\n",
      "x desejado: [3.4979005  1.47591397]  x encontrado: [3.4979005  1.47591397] Erro: 1.973421204226611e-09\n",
      "x desejado: [2.65868875 1.43543049]  x encontrado: [2.65868875 1.43543049] Erro: 6.4293015356042815e-12\n",
      "x desejado: [2.3386404  2.24794474]  x encontrado: [2.3386404  2.24794474] Erro: 8.881784197001252e-16\n",
      "x desejado: [3.88611235 3.37213261]  x encontrado: [3.88611235 3.37213261] Erro: 3.0242475190789264e-12\n",
      "Não alcançável\n",
      "x desejado: [3.18134703 2.33678531]  x encontrado: [3.18134703 2.33678531] Erro: 2.398081733190338e-14\n",
      "x desejado: [1.80726116 3.25675505]  x encontrado: [1.80726116 3.25675505] Erro: 4.440892098500626e-16\n",
      "x desejado: [2.28161895 4.28594163]  x encontrado: [2.28161895 4.28594163] Erro: 1.8124612921610606e-11\n",
      "x desejado: [2.92281683 1.18558645]  x encontrado: [2.92281683 1.18558645] Erro: 7.327471962526033e-15\n",
      "x desejado: [1.95596456 1.89757293]  x encontrado: [1.95596456 1.89757293] Erro: 1.947486616415972e-11\n",
      "Não alcançável\n",
      "x desejado: [1.21817893 3.49103886]  x encontrado: [1.21817893 3.49103886] Erro: 1.9095836023552692e-14\n",
      "x desejado: [2.69685322 4.18154759]  x encontrado: [2.69685322 4.18154759] Erro: 1.6048851136929443e-10\n",
      "x desejado: [2.03387803 1.96428129]  x encontrado: [2.03387803 1.96428129] Erro: 2.1525004001432535e-12\n",
      "x desejado: [3.20100864 1.29585748]  x encontrado: [3.20100864 1.29585748] Erro: 2.220446049250313e-16\n",
      "x desejado: [1.26141418 2.97851876]  x encontrado: [1.26141418 2.97851876] Erro: 7.104761223786227e-11\n",
      "x desejado: [1.48539773 3.75672086]  x encontrado: [1.48539773 3.75672086] Erro: 6.372546934585444e-11\n",
      "x desejado: [3.22689417 3.48799914]  x encontrado: [3.22689417 3.48799914] Erro: 8.881784197001252e-16\n",
      "x desejado: [2.93981558 3.02158454]  x encontrado: [2.93981558 3.02158454] Erro: 4.969358258222201e-12\n",
      "x desejado: [4.34024679 2.80546984]  x encontrado: [4.34024679 2.80546984] Erro: 4.3520742565306136e-14\n",
      "Não alcançável\n",
      "x desejado: [4.24483654 2.25116498]  x encontrado: [4.24483654 2.25116498] Erro: 2.581002078727579e-11\n",
      "x desejado: [1.34174216 4.22202122]  x encontrado: [1.34174216 4.22202122] Erro: 1.4441781104324036e-12\n",
      "x desejado: [2.83985341 1.09626183]  x encontrado: [2.83985341 1.09626183] Erro: 1.4876988529977098e-14\n",
      "x desejado: [2.56655334 1.02815947]  x encontrado: [2.56655334 1.02815947] Erro: 1.1859402349045922e-12\n",
      "x desejado: [2.28055991 3.06972891]  x encontrado: [2.28055991 3.06972891] Erro: 1.199040866595169e-14\n",
      "x desejado: [2.85602973 4.13928236]  x encontrado: [2.85602973 4.13928236] Erro: 3.0930857874977846e-10\n"
     ]
    }
   ],
   "source": [
    "theta1, theta2 = (-np.pi/4, np.pi/4)\n",
    "R1, R2 = 3, 2.5\n",
    "\n",
    "for i in range(50):\n",
    "    xd = np.random.uniform(1, 5, [1, 2])[0]\n",
    "    try:\n",
    "        _, _, x = nr_2d(R1, R2, theta1, theta2, xd)\n",
    "        print(f\"x desejado: {xd}  x encontrado: {x} Erro: {sum(np.sqrt(abs(xd - x)**2))}\")\n",
    "    except (ValueError, np.linalg.LinAlgError) as e:\n",
    "        print(e)"
   ]
  },
  {
   "cell_type": "code",
   "execution_count": 10,
   "metadata": {},
   "outputs": [
    {
     "data": {
      "image/png": "[encoded data removed]",
      "text/plain": [
       "<Figure size 432x288 with 1 Axes>"
      ]
     },
     "metadata": {
      "needs_background": "light"
     },
     "output_type": "display_data"
    }
   ],
   "source": [
    "xd = np.random.uniform(1, 5, [1, 2])[0]\n",
    "try:\n",
    "    theta1, theta2, x = nr_2d(R1, R2, theta1, theta2, xd)\n",
    "    coord1 = np.asarray([R1*np.cos(theta1), R1*np.sin(theta1)])\n",
    "    plt.plot([0, coord1[0]], [0, coord1[1]], '-', color='red', label='R1')\n",
    "    plt.plot([coord1[0], x[0]], [coord1[1], x[1]], '-', color='blue', label='R2')\n",
    "    plt.plot(*xd, 'o', color='black', label='Ponto desejado')\n",
    "    plt.grid()\n",
    "    plt.legend()\n",
    "except (ValueError, np.linalg.LinAlgError) as e:\n",
    "    print(e)"
   ]
  },
  {
   "cell_type": "markdown",
   "metadata": {},
   "source": [
    "## Caso para 3 dimensões"
   ]
  },
  {
   "cell_type": "markdown",
   "metadata": {},
   "source": [
    "![Três graus de liberdade](img/3d.jpeg)"
   ]
  },
  {
   "cell_type": "markdown",
   "metadata": {},
   "source": [
    "$f=\\Big(f_1(\\theta_1,\\theta_2,\\theta_3),~f_2(\\theta_1,\\theta_2,\\theta_3),~f_3(\\theta_1,\\theta_2,\\theta_3)\\Big)=\\Big(\\big[R1\\cos\\theta_1+R_2\\cos\\theta_2\\big]\\sin\\theta_3,~\\big[R1\\cos\\theta_1+R_2\\cos\\theta_2\\big]\\cos\\theta_3,~R1\\sin\\theta_1+R_2\\sin\\theta_2\\Big)$\n",
    "\n",
    "$J=\\begin{bmatrix}\\frac{\\partial f_1}{\\partial\\theta_1}&\\frac{\\partial f_1}{\\partial\\theta_2}&\\frac{\\partial f_1}{\\partial\\theta_3}\\\\\\frac{\\partial f_2}{\\partial\\theta_1}&\\frac{\\partial f_2}{\\partial\\theta_2}&\\frac{\\partial f_2}{\\partial\\theta_3}\\\\\\frac{\\partial f_3}{\\partial\\theta_1}&\\frac{\\partial f_3}{\\partial\\theta_2}&\\frac{\\partial f_3}{\\partial\\theta_1}\\end{bmatrix}=$\n",
    "$\\begin{bmatrix}-R1\\sin\\theta_1\\sin\\theta_3&-R2\\sin\\theta_2\\sin\\theta_3&\\big[R1\\cos\\theta_1+R_2\\cos\\theta_2\\big]\\cos\\theta_3\\\\-R1\\sin\\theta_1\\cos\\theta_3&-R2\\sin\\theta_2\\cos\\theta_3&-\\big[R1\\cos\\theta_1+R_2\\cos\\theta_2\\big]\\sin\\theta_3\\\\R1\\cos\\theta_1&R2\\cos\\theta_2&0\\end{bmatrix}$"
   ]
  },
  {
   "cell_type": "markdown",
   "metadata": {},
   "source": [
    "**Newton-Raphson:**\n",
    "\n",
    "$\\begin{bmatrix}\\theta_{1_{k+1}}-\\theta_{1_{k}}\\\\\\theta_{2_{k+1}}-\\theta_2{_{k}}\\\\\\theta_{3_{k+1}}-\\theta_{3_{k}}\\end{bmatrix}=$\n",
    "$\\begin{bmatrix}-R1\\sin\\theta_{1_{k}}\\sin\\theta_{3_{k}}&-R2\\sin\\theta_{2_{k}}\\sin\\theta_{3_{k}}&\\big[R1\\cos\\theta_{1_{k}}+R_2\\cos\\theta_{2_{k}}\\big]\\cos\\theta_{3_{k}}\\\\-R1\\sin\\theta_{1_{k}}\\cos\\theta_{3_{k}}&-R2\\sin\\theta_{2_{k}}\\cos\\theta_{3_{k}}&-\\big[R1\\cos\\theta_{1_{k}}+R_2\\cos\\theta_{2_{k}}\\big]\\sin\\theta_{3_{k}}\\\\R1\\cos\\theta_{1_{k}}&R2\\cos\\theta_{2_{k}}&0\\end{bmatrix}^{-1}$\n",
    "$\\begin{bmatrix}x_{1_d}-\\big[R1\\cos\\theta_{1_{k}}+R_2\\cos\\theta_{2_{k}}\\big]\\sin\\theta_{3_{k}}\\\\x_{2_d}-\\big[R1\\cos\\theta_{1_{k}}+R_2\\cos\\theta_{2_{k}}\\big]\\cos\\theta_{3_{k}}\\\\x_{3_d}-R1\\sin\\theta_{1_{k}}+R_2\\sin\\theta_{2_{k}}\\end{bmatrix}$\n",
    "\n",
    "$\\Theta_3 = A_3^{-1}\\cdot\\Big[X-B_3\\Big]$"
   ]
  },
  {
   "cell_type": "code",
   "execution_count": 11,
   "metadata": {},
   "outputs": [],
   "source": [
    "def A3_matrix_maker(R1, R2, theta1, theta2, theta3):\n",
    "    return [\n",
    "        [-R1*np.sin(theta1)*np.sin(theta3),\n",
    "         -R2*np.sin(theta2)*np.sin(theta3),\n",
    "         (R1*np.cos(theta1)+R2*np.cos(theta2))*np.cos(theta3)],\n",
    "        [-R1*np.sin(theta1)*np.cos(theta3),\n",
    "         -R2*np.sin(theta2)*np.cos(theta3),\n",
    "         -(R1*np.cos(theta1)+R2*np.cos(theta2))*np.sin(theta3)],\n",
    "        [R1*np.cos(theta1), R2*np.cos(theta2), 0]\n",
    "    ]\n",
    "def B3_matrix_maker(R1, R2, theta1, theta2, theta3):\n",
    "    return [\n",
    "        (R1*np.cos(theta1)+R2*np.cos(theta2))*np.sin(theta3),\n",
    "        (R1*np.cos(theta1)+R2*np.cos(theta2))*np.cos(theta3),\n",
    "        R1*np.sin(theta1)+R2*np.sin(theta2)\n",
    "    ]"
   ]
  },
  {
   "cell_type": "code",
   "execution_count": 12,
   "metadata": {},
   "outputs": [],
   "source": [
    "def nr_3d(R1: float, R2: float, theta1: float, theta2: float, theta3: float, xd: list) -> tuple:\n",
    "    xd = np.asarray(xd)\n",
    "    mod = np.sqrt(xd[0]**2 + xd[1]**2 + xd[2]**2)\n",
    "    if mod > R1+R2 or mod < abs(R1-R2):\n",
    "        raise ValueError(\"Não alcançável\")\n",
    "    loop = True\n",
    "    iter = 0\n",
    "    while loop:\n",
    "        iter += 1\n",
    "        A_matrix = np.asarray(A3_matrix_maker(R1, R2, theta1, theta2, theta3))\n",
    "        B_matrix = np.asarray(B3_matrix_maker(R1, R2, theta1, theta2, theta3))\n",
    "        Theta_vector = np.matmul(np.linalg.inv(A_matrix), xd - B_matrix)\n",
    "        theta1, theta2, theta3 = Theta_vector[0] + theta1, Theta_vector[1] + theta2, Theta_vector[2] + theta3\n",
    "        x = np.asarray(B3_matrix_maker(R1, R2, theta1, theta2, theta3))\n",
    "        loop = iter < 50 and not np.allclose(xd, x, rtol=1e-10)\n",
    "    return theta1, theta2, theta3, x"
   ]
  },
  {
   "cell_type": "code",
   "execution_count": 13,
   "metadata": {},
   "outputs": [
    {
     "name": "stdout",
     "output_type": "stream",
     "text": [
      "x desejado: [2.01791833 2.52772403 3.17546363]  x encontrado: [2.01791833 2.52772403 3.17546363] Erro: 1.3356533656860847e-09\n",
      "x desejado: [4.19866001 2.32244322 2.04474284]  x encontrado: [4.19866001 2.32244322 2.04474284] Erro: 8.881784197001252e-15\n",
      "x desejado: [2.06363096 1.25204403 1.10049774]  x encontrado: [2.06363096 1.25204403 1.10049774] Erro: 3.1041280657007064e-10\n",
      "x desejado: [3.27883141 3.1709432  1.08402688]  x encontrado: [3.2788314  3.17094319 1.08402687] Erro: 1.9313921795216515e-08\n",
      "Não alcançável\n",
      "x desejado: [3.46489798 3.86104544 1.49788722]  x encontrado: [3.46489798 3.86104544 1.49788722] Erro: 1.070832311711456e-11\n",
      "Não alcançável\n",
      "Não alcançável\n",
      "x desejado: [2.96861595 3.25543838 1.97771717]  x encontrado: [2.96861595 3.25543838 1.97771717] Erro: 6.072031766279906e-12\n",
      "Não alcançável\n",
      "Não alcançável\n",
      "Não alcançável\n",
      "x desejado: [3.07662735 1.13069594 2.81497259]  x encontrado: [3.07662735 1.13069594 2.81497258] Erro: 4.3451908737779377e-10\n",
      "x desejado: [2.60100338 1.1284539  2.83234182]  x encontrado: [2.60100338 1.1284539  2.83234181] Erro: 3.0497568914711337e-09\n",
      "x desejado: [3.42190312 2.00349401 1.39627619]  x encontrado: [3.42190312 2.00349401 1.39627619] Erro: 4.440892098500626e-16\n",
      "x desejado: [2.93519477 3.00176174 2.23298882]  x encontrado: [2.93519477 3.00176174 2.23298882] Erro: 1.4384493596253378e-11\n",
      "Não alcançável\n",
      "x desejado: [4.26023115 2.27186706 1.18091224]  x encontrado: [4.26023115 2.27186706 1.18091224] Erro: 9.232170583572952e-12\n",
      "x desejado: [2.718244   3.54276603 1.64893814]  x encontrado: [2.718244   3.54276603 1.64893814] Erro: 1.971756091734278e-13\n",
      "Não alcançável\n",
      "x desejado: [1.39873364 1.86498225 2.02013762]  x encontrado: [1.39873364 1.86498225 2.02013762] Erro: 4.440892098500626e-16\n",
      "x desejado: [3.44570371 1.70923211 1.26555766]  x encontrado: [3.44570371 1.70923211 1.26555765] Erro: 9.332692174623958e-09\n",
      "x desejado: [3.89192135 2.37762399 1.42412851]  x encontrado: [3.89192135 2.37762399 1.42412851] Erro: 2.1804780203638074e-13\n",
      "Não alcançável\n",
      "x desejado: [1.74567575 1.81366679 2.94214366]  x encontrado: [1.74567575 1.81366679 2.94214365] Erro: 5.4038833408043274e-09\n",
      "x desejado: [3.38745922 2.71357595 3.13567432]  x encontrado: [3.38745921 2.71357594 3.13567432] Erro: 5.081503218207217e-09\n",
      "x desejado: [1.98108703 3.29594851 2.03631124]  x encontrado: [1.98108703 3.29594851 2.03631124] Erro: 8.72635297355373e-14\n",
      "x desejado: [2.56454932 1.39987854 1.52683326]  x encontrado: [2.56454932 1.39987854 1.52683326] Erro: 3.327116360196669e-12\n",
      "x desejado: [2.11648735 2.59639065 4.11390185]  x encontrado: [2.11648735 2.59639065 4.11390185] Erro: 4.707345624410664e-14\n",
      "x desejado: [2.84861411 2.22855815 3.92855911]  x encontrado: [2.84861411 2.22855815 3.92855911] Erro: 5.417888360170764e-14\n",
      "Não alcançável\n",
      "x desejado: [1.37890328 1.52738017 2.80746984]  x encontrado: [1.37890328 1.52738017 2.80746984] Erro: 4.750777549134e-11\n",
      "x desejado: [1.09436833 3.60945186 1.08304377]  x encontrado: [1.09436833 3.60945186 1.08304377] Erro: 1.1102230246251565e-15\n",
      "Não alcançável\n",
      "x desejado: [2.09004701 4.04893113 2.95999984]  x encontrado: [2.09004701 4.04893113 2.95999984] Erro: 3.276046101063912e-12\n",
      "Não alcançável\n",
      "x desejado: [1.66620933 3.80105585 3.41923519]  x encontrado: [1.66620933 3.80105585 3.41923519] Erro: 1.0369483049998962e-13\n",
      "Não alcançável\n",
      "Não alcançável\n",
      "x desejado: [2.7709464  2.16603084 2.69043623]  x encontrado: [2.7709464  2.16603084 2.69043623] Erro: 1.6762591315000464e-11\n",
      "x desejado: [1.19523925 2.27409079 2.83086353]  x encontrado: [1.19523925 2.27409079 2.83086353] Erro: 2.220446049250313e-16\n",
      "x desejado: [1.28028621 1.78209818 3.98959806]  x encontrado: [1.28028621 1.78209818 3.98959806] Erro: 4.440892098500626e-16\n",
      "x desejado: [1.6174987  1.27020436 3.23508378]  x encontrado: [1.6174987  1.27020436 3.23508378] Erro: 2.778783869672452e-10\n",
      "x desejado: [1.3367426  2.51670905 2.61618046]  x encontrado: [1.3367426  2.51670905 2.61618046] Erro: 3.593210173846728e-10\n",
      "Não alcançável\n",
      "x desejado: [1.92924177 2.55246513 3.31160853]  x encontrado: [1.92924177 2.55246512 3.31160853] Erro: 7.186345296616992e-09\n",
      "x desejado: [3.94557721 3.18031911 1.22903224]  x encontrado: [3.94557721 3.18031911 1.22903224] Erro: 5.130516012030739e-10\n",
      "x desejado: [2.76058179 1.03979038 1.70763701]  x encontrado: [2.76058179 1.03979038 1.70763701] Erro: 1.386992742880011e-10\n",
      "Não alcançável\n",
      "x desejado: [3.17390148 3.01678285 1.03280023]  x encontrado: [3.17390148 3.01678285 1.03280023] Erro: 2.2557906653730697e-09\n"
     ]
    }
   ],
   "source": [
    "theta1, theta2, theta3 = (-np.pi/4, np.pi/4, np.pi/4)\n",
    "R1, R2 = 3, 2.5\n",
    "\n",
    "for i in range(50):\n",
    "    xd = np.random.uniform(1, 4.5, [1, 3])[0]\n",
    "    try:\n",
    "        _, _, _, x = nr_3d(R1, R2, theta1, theta2, theta3, xd)\n",
    "        print(f\"x desejado: {xd}  x encontrado: {x} Erro: {sum(np.sqrt(abs(xd - x)**2))}\")\n",
    "    except (ValueError, np.linalg.LinAlgError) as e:\n",
    "        print(e)"
   ]
  },
  {
   "cell_type": "code",
   "execution_count": 14,
   "metadata": {},
   "outputs": [
    {
     "data": {
      "image/png": "[encoded data removed]",
      "text/plain": [
       "<Figure size 432x432 with 1 Axes>"
      ]
     },
     "metadata": {
      "needs_background": "light"
     },
     "output_type": "display_data"
    }
   ],
   "source": [
    "xd = np.random.uniform(1, 4.5, [1, 3])[0]\n",
    "try:\n",
    "    fig = plt.figure()\n",
    "    fig.set_size_inches(6, 6)\n",
    "    ax = plt.axes(projection='3d')\n",
    "\n",
    "    theta1, theta2, theta3, x = nr_3d(R1, R2, theta1, theta2, theta3, xd)\n",
    "    coord1 = np.asarray([R1*np.cos(theta1)*np.sin(theta3), R1*np.cos(theta1)*np.cos(theta3), R1*np.sin(theta1)])\n",
    "    ax.plot([0, coord1[0]], [0, coord1[1]], [0, coord1[2]], color='red', label='R1')\n",
    "    ax.plot([coord1[0], x[0]], [coord1[1], x[1]], [coord1[2], x[2]], color='blue', label='R2')\n",
    "    ax.plot(*x, 'o', color='black', label='Ponto desejado')\n",
    "    ax.legend()\n",
    "    \"\"\"plt.plot([0, coord1[0]], [0, coord1[1]], '-', color='red', label='R1')\n",
    "    plt.plot([coord1[0], x[0]], [coord1[1], x[1]], '-', color='blue', label='R2')\n",
    "    plt.plot(*xd, 'o', color='black', label='Ponto desejado')\n",
    "    plt.grid()\n",
    "    plt.legend()\"\"\"\n",
    "except (ValueError, np.linalg.LinAlgError) as e:\n",
    "    print(e)"
   ]
  }
 ],
 "metadata": {
  "kernelspec": {
   "display_name": "Python 3",
   "language": "python",
   "name": "python3"
  },
  "language_info": {
   "codemirror_mode": {
    "name": "ipython",
    "version": 3
   },
   "file_extension": ".py",
   "mimetype": "text/x-python",
   "name": "python",
   "nbconvert_exporter": "python",
   "pygments_lexer": "ipython3",
   "version": "3.8.10"
  }
 },
 "nbformat": 4,
 "nbformat_minor": 4
}
