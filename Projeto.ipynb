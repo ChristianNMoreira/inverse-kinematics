{
 "cells": [
  {
   "cell_type": "code",
   "execution_count": 1,
   "metadata": {},
   "outputs": [],
   "source": [
    "# Para testes\n",
    "import numpy as np\n",
    "import matplotlib.pyplot as plt\n",
    "\n",
    "pi = np.pi"
   ]
  },
  {
   "cell_type": "code",
   "execution_count": 2,
   "metadata": {},
   "outputs": [],
   "source": [
    "from typing import Callable"
   ]
  },
  {
   "cell_type": "markdown",
   "metadata": {},
   "source": [
    "# Cinemática Inversa\n",
    "\n",
    "O problema da cinemática inversa consiste em encontrar ângulos de juntas robóticas que correspondem à certa posição do braço robótico no espaço. Ou seja, encontrar valores de $\\theta$ que satisfaçam $f(\\theta)=x$, $f(\\theta_1,\\theta_2)=(x,y)$ e $f(\\theta_1,\\theta_2,\\theta_3)=(x,y,z)$."
   ]
  },
  {
   "cell_type": "markdown",
   "metadata": {},
   "source": [
    "## Método de Newton"
   ]
  },
  {
   "cell_type": "code",
   "execution_count": 3,
   "metadata": {},
   "outputs": [],
   "source": [
    "def nr(f: Callable[[float], float], df: Callable[[float], float], x: float, p: float) -> float:\n",
    "    # p = chute inicial\n",
    "    def g(w):\n",
    "        return f(w) - x\n",
    "    xl = p\n",
    "    # critérios de parada\n",
    "    N, e_stop = 50, 1e-8\n",
    "    iter, e = 0, 1\n",
    "    while iter < N-1 and e > e_stop:\n",
    "        xn = xl - g(xl)/df(xl)\n",
    "        e = xn\n",
    "        xl = xn\n",
    "        iter += 1\n",
    "\n",
    "    return xn"
   ]
  },
  {
   "cell_type": "markdown",
   "metadata": {},
   "source": [
    "## Caso para 1 dimensão"
   ]
  },
  {
   "cell_type": "markdown",
   "metadata": {},
   "source": [
    "O caso para 1 dimensão se resume em encontrar um ângulo referente a uma posição em um círculo"
   ]
  },
  {
   "cell_type": "code",
   "execution_count": 4,
   "metadata": {},
   "outputs": [],
   "source": [
    "R = 3\n",
    "\n",
    "def f_1d(theta: float) -> float:\n",
    "    return theta*R\n",
    "\n",
    "def d_f_1d(theta: float) -> float:\n",
    "    return R"
   ]
  },
  {
   "cell_type": "code",
   "execution_count": 5,
   "metadata": {},
   "outputs": [
    {
     "name": "stdout",
     "output_type": "stream",
     "text": [
      "Valor de theta encontrado para x = 2: 0.6666666666666667\n",
      "Valor de x: 2.0\n"
     ]
    }
   ],
   "source": [
    "theta_nr = nr(f_1d, d_f_1d, 2, 0.7)\n",
    "print(f\"Valor de theta encontrado para x = 2: {theta_nr}\")\n",
    "print(f\"Valor de x: {f_1d(theta_nr)}\")"
   ]
  },
  {
   "cell_type": "markdown",
   "metadata": {},
   "source": [
    "## Caso para 2 dimensões"
   ]
  },
  {
   "cell_type": "markdown",
   "metadata": {},
   "source": [
    "Nesse caso se tem um um sistema com dois braços, braço 1 e braço 2. A posição desejada se dará pela posição da ponta não articulada do braço 2. Considerando os ângulos $\\theta_1$ (calculado entre a reta do braço 1 e a reta $x=0$) e $\\theta_2$ (calculado entre a reta do braço 2 e a paralela à reta $x=0$), a posição desejada se dá por:\n",
    "\n",
    "$(x,y)=\\Big(f_1(\\theta_1,\\theta_2), f_2(\\theta_1,\\theta_2)\\Big)=\\Big(R_1\\cos(\\theta_1)+R_2\\cos(\\theta_2), R_1\\sin(\\theta_1)+R_2\\sin(\\theta_2)\\Big)$\n",
    "\n",
    "$\\frac{df}{d\\theta}=\n",
    "\\begin{bmatrix}\n",
    "\\frac{\\partial f_1}{\\partial\\theta_1}&\\frac{\\partial f_1}{\\partial\\theta_2}\\\\\n",
    "\\frac{\\partial f_2}{\\partial\\theta_1}&\\frac{\\partial f_2}{\\partial\\theta_2}\n",
    "\\end{bmatrix}=\n",
    "\\begin{bmatrix}\n",
    "-R_1\\sin(\\theta_1)&-R_2\\sin(\\theta_2)\\\\\n",
    "R_1\\cos(\\theta_1)&R_2\\cos(\\theta_2)\n",
    "\\end{bmatrix}$"
   ]
  },
  {
   "cell_type": "markdown",
   "metadata": {},
   "source": [
    "### Método da descida do gradiente\n",
    "\n",
    "Nesse caso, deve-se aplicar o método para $f_1$ e $f_2$.\n",
    "As funções a serem minimizadas serão\n",
    "$\\Big(f_1(\\theta_1, \\theta_2) - x\\Big)^2$ e $\\Big(f_2(\\theta_1, \\theta_2) - y\\Big)^2$.\n",
    "\n",
    "$\\nabla f_1 =\n",
    "\\Big( 2\\cdot\\big[f_1(\\theta_1, \\theta_2) - x\\big]\\frac{\\partial f_1}{\\partial\\theta_1},\n",
    "2\\cdot\\big[f_1(\\theta_1, \\theta_2) - x\\big]\\frac{\\partial f_1}{\\partial\\theta_2} \\Big)$\n",
    "\n",
    "$\\nabla f_2 =\n",
    "\\Big( 2\\cdot\\big[f_2(\\theta_1, \\theta_2) - y\\big]\\frac{\\partial f_2}{\\partial\\theta_1},\n",
    "2\\cdot\\big[f_2(\\theta_1, \\theta_2) - y\\big]\\frac{\\partial f_2}{\\partial\\theta_2} \\Big)$\n",
    "\n",
    "**OBS:** Assim não funcionaria, pois seria possível encontrar valores diferentes para $\\theta_1$ e $\\theta_2$ em $f_1$ e $f_2$."
   ]
  },
  {
   "cell_type": "code",
   "execution_count": 50,
   "metadata": {},
   "outputs": [],
   "source": [
    "R1, R2 = 3, 2.5\n",
    "\n",
    "# f_2d: (R1*np.cos(theta1)+R2*np.cos(theta2), R1*np.sin(theta1)+R2*np.sin(theta2))\n",
    "# grad_f_2d: ( (-R1*np.sin(theta1), -R2*np.sin(theta2)), (R1*np.cos(theta1), R2*np.cos(theta2)) )\n",
    "\n",
    "def f(theta1: float, theta2: float, func: Callable) -> float:\n",
    "    return R1*func(theta1) + R2*func(theta2)\n",
    "\n",
    "def f_2d_x(theta1: float, theta2: float, x: float) -> float:\n",
    "    return (f(theta1, theta2, np.cos) - x)**2\n",
    "\n",
    "def f_2d_y(theta1: float, theta2: float, y: float) -> float:\n",
    "    return (f(theta1, theta2, np.sin) - y)**2\n",
    "\n",
    "def grad_f_2d_x(theta1: float, theta2: float, x: float) -> tuple:\n",
    "    w = (f(theta1, theta2, np.cos)-x)\n",
    "    return ((2*w*(-R1*np.sin(theta1))),\n",
    "            (2*w*(-R2*np.sin(theta2))))\n",
    "\n",
    "def grad_f_2d_y(theta1: float, theta2: float, y: float) -> tuple:\n",
    "    w = (f(theta1, theta2, np.sin)-y)\n",
    "    return (2*w*R1*np.cos(theta1),\n",
    "            2*w*R2*np.cos(theta2))"
   ]
  },
  {
   "cell_type": "code",
   "execution_count": 69,
   "metadata": {},
   "outputs": [],
   "source": [
    "def descida_grad(f: Callable[[float, float, float], float],\n",
    "                 df: Callable[[float, float, float], tuple],\n",
    "                 k: float, x0y0: tuple = (0.5, 0.5)):\n",
    "    # passo fixo\n",
    "    h = 0.7\n",
    "    # x0y0 = chute inicial\n",
    "    xo, yo = x0y0[0], x0y0[1]\n",
    "    # critérios de parada\n",
    "    N, tol = 50, 1e-8\n",
    "    iter, grad = 0, (tol + 1, tol + 1)\n",
    "    while iter < N and grad[0] > tol and grad[1] > tol:\n",
    "        grad = df(xo, yo, k)\n",
    "        xnyn = (\n",
    "            (xo - grad[0]*h),\n",
    "            (yo - grad[1]*h)\n",
    "        )\n",
    "        xo, yo = xnyn[0], xnyn[1]\n",
    "        iter += 1\n",
    "\n",
    "    return xnyn"
   ]
  },
  {
   "cell_type": "code",
   "execution_count": 70,
   "metadata": {},
   "outputs": [
    {
     "name": "stdout",
     "output_type": "stream",
     "text": [
      "Valores de theta encontrados para x = 2: (6.319283951573393, 5.399403292977827)\n",
      "Valor de x: 4.583624666511952\n",
      "16.67599041694485\n"
     ]
    }
   ],
   "source": [
    "# x\n",
    "x = 2\n",
    "theta1, theta2 = descida_grad(f_2d_x, grad_f_2d_x, x, (0.8, 0.8))\n",
    "print(f\"Valores de theta encontrados para x = {x}: {theta1, theta2}\")\n",
    "print(f\"Valor de x: {f(theta1, theta2, np.cos)}\")\n",
    "print(f_2d_x(theta1, theta2, 0.5))"
   ]
  }
 ],
 "metadata": {
  "kernelspec": {
   "display_name": "Python 3",
   "language": "python",
   "name": "python3"
  },
  "language_info": {
   "codemirror_mode": {
    "name": "ipython",
    "version": 3
   },
   "file_extension": ".py",
   "mimetype": "text/x-python",
   "name": "python",
   "nbconvert_exporter": "python",
   "pygments_lexer": "ipython3",
   "version": "3.8.5"
  }
 },
 "nbformat": 4,
 "nbformat_minor": 4
}
