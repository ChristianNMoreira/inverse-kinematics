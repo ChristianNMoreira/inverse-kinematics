{
 "cells": [
  {
   "cell_type": "code",
   "execution_count": 1,
   "metadata": {},
   "outputs": [],
   "source": [
    "# Para testes\n",
    "import numpy as np\n",
    "import matplotlib.pyplot as plt\n",
    "\n",
    "pi = np.pi"
   ]
  },
  {
   "cell_type": "code",
   "execution_count": 2,
   "metadata": {},
   "outputs": [],
   "source": [
    "from typing import Callable"
   ]
  },
  {
   "cell_type": "markdown",
   "metadata": {},
   "source": [
    "# Cinemática Inversa\n",
    "\n",
    "O problema da cinemática inversa consiste em encontrar ângulos de juntas robóticas que correspondem à certa posição do braço robótico no espaço. Ou seja, encontrar valores de $\\theta$ que satisfaçam $f(\\theta)=x$, $f(\\theta_1,\\theta_2)=(x,y)$ e $f(\\theta_1,\\theta_2,\\theta_3)=(x,y,z)$."
   ]
  },
  {
   "cell_type": "markdown",
   "metadata": {},
   "source": [
    "## Método de Newton"
   ]
  },
  {
   "cell_type": "code",
   "execution_count": 3,
   "metadata": {},
   "outputs": [],
   "source": [
    "def nr(f: Callable[[float], float], df: Callable[[float], float], x: float, p: float) -> float:\n",
    "    # p = chute inicial\n",
    "    def g(w):\n",
    "        return f(w) - x\n",
    "    xl = p\n",
    "    # critérios de parada\n",
    "    N, e_stop = 50, 1e-8\n",
    "    iter, e = 0, 1\n",
    "    while iter < N-1 and e > e_stop:\n",
    "        xn = xl - g(xl)/df(xl)\n",
    "        e = xn\n",
    "        xl = xn\n",
    "        iter += 1\n",
    "\n",
    "    return xn"
   ]
  },
  {
   "cell_type": "markdown",
   "metadata": {},
   "source": [
    "## Caso para 1 dimensão"
   ]
  },
  {
   "cell_type": "markdown",
   "metadata": {},
   "source": [
    "O caso para 1 dimensão se resume em encontrar um ângulo referente a uma posição em um círculo"
   ]
  },
  {
   "cell_type": "code",
   "execution_count": 4,
   "metadata": {},
   "outputs": [],
   "source": [
    "R = 3\n",
    "\n",
    "def f_1d(theta: float) -> float:\n",
    "    return theta*R\n",
    "\n",
    "def d_f_1d(theta: float) -> float:\n",
    "    return R"
   ]
  },
  {
   "cell_type": "code",
   "execution_count": 5,
   "metadata": {},
   "outputs": [
    {
     "name": "stdout",
     "output_type": "stream",
     "text": [
      "Valor de theta encontrado para x = 2: 0.6666666666666667\n",
      "Valor de x: 2.0\n"
     ]
    }
   ],
   "source": [
    "theta_nr = nr(f_1d, d_f_1d, 2, 0.7)\n",
    "print(f\"Valor de theta encontrado para x = 2: {theta_nr}\")\n",
    "print(f\"Valor de x: {f_1d(theta_nr)}\")"
   ]
  },
  {
   "cell_type": "markdown",
   "metadata": {},
   "source": [
    "## Caso para 2 dimensões"
   ]
  },
  {
   "cell_type": "markdown",
   "metadata": {},
   "source": [
    "Nesse caso se tem um um sistema com dois braços, braço 1 e braço 2. A posição desejada se dará pela posição da ponta não articulada do braço 2. Considerando os ângulos $\\theta_1$ (calculado entre a reta do braço 1 e a reta $x=0$) e $\\theta_2$ (calculado entre a reta do braço 2 e a paralela à reta $x=0$), a posição desejada se dá por:\n",
    "\n",
    "$(x,y)=\\Big(f_1(\\theta_1,\\theta_2), f_2(\\theta_1,\\theta_2)\\Big)=\\Big(R_1\\cos(\\theta_1)+R_2\\cos(\\theta_2), R_1\\sin(\\theta_1)+R_2\\sin(\\theta_2)\\Big)$\n",
    "\n",
    "$\\frac{df}{d\\theta}=\n",
    "\\begin{bmatrix}\n",
    "\\frac{\\partial f_1}{\\partial\\theta_1}&\\frac{\\partial f_1}{\\partial\\theta_2}\\\\\n",
    "\\frac{\\partial f_2}{\\partial\\theta_1}&\\frac{\\partial f_2}{\\partial\\theta_2}\n",
    "\\end{bmatrix}=\n",
    "\\begin{bmatrix}\n",
    "-R_1\\sin(\\theta_1)&-R_2\\sin(\\theta_2)\\\\\n",
    "R_1\\cos(\\theta_1)&R_2\\cos(\\theta_2)\n",
    "\\end{bmatrix}$"
   ]
  },
  {
   "cell_type": "markdown",
   "metadata": {},
   "source": [
    "### Método da descida do gradiente\n",
    "\n",
    "Nesse caso, deve-se aplicar o método para $f_1$ e $f_2$.\n",
    "As funções a serem minimizadas serão\n",
    "$\\Big(f_1(\\theta_1, \\theta_2) - x\\Big)^2$ e $\\Big(f_2(\\theta_1, \\theta_2) - y\\Big)^2$.\n",
    "\n",
    "$\\nabla f_1 =\n",
    "\\Big( 2\\cdot\\big[f_1(\\theta_1, \\theta_2) - x\\big]\\frac{\\partial f_1}{\\partial\\theta_1},\n",
    "2\\cdot\\big[f_1(\\theta_1, \\theta_2) - x\\big]\\frac{\\partial f_1}{\\partial\\theta_2} \\Big)$\n",
    "\n",
    "$\\nabla f_2 =\n",
    "\\Big( 2\\cdot\\big[f_2(\\theta_1, \\theta_2) - y\\big]\\frac{\\partial f_2}{\\partial\\theta_1},\n",
    "2\\cdot\\big[f_2(\\theta_1, \\theta_2) - y\\big]\\frac{\\partial f_2}{\\partial\\theta_2} \\Big)$\n",
    "\n",
    "**OBS:** Assim não funcionaria, pois seria possível encontrar valores diferentes para $\\theta_1$ e $\\theta_2$ em $f_1$ e $f_2$."
   ]
  },
  {
   "cell_type": "code",
   "execution_count": 6,
   "metadata": {},
   "outputs": [],
   "source": [
    "R1, R2 = 3, 2.5\n",
    "\n",
    "# f_2d: (R1*np.cos(theta1)+R2*np.cos(theta2), R1*np.sin(theta1)+R2*np.sin(theta2))\n",
    "# grad_f_2d: ( (-R1*np.sin(theta1), -R2*np.sin(theta2)), (R1*np.cos(theta1), R2*np.cos(theta2)) )\n",
    "\n",
    "def f(theta1: float, theta2: float, func: Callable) -> float:\n",
    "    return R1*func(theta1) + R2*func(theta2)\n",
    "\n",
    "def f_2d_x(theta1: float, theta2: float, x: float) -> float:\n",
    "    return (f(theta1, theta2, np.cos) - x)**2\n",
    "\n",
    "def f_2d_y(theta1: float, theta2: float, y: float) -> float:\n",
    "    return (f(theta1, theta2, np.sin) - y)**2\n",
    "\n",
    "def grad_f_2d_x(theta1: float, theta2: float, x: float) -> tuple:\n",
    "    w = (f(theta1, theta2, np.cos)-x)\n",
    "    return ((2*w*(-R1*np.sin(theta1))),\n",
    "            (2*w*(-R2*np.sin(theta2))))\n",
    "\n",
    "def grad_f_2d_y(theta1: float, theta2: float, y: float) -> tuple:\n",
    "    w = (f(theta1, theta2, np.sin)-y)\n",
    "    return (2*w*R1*np.cos(theta1),\n",
    "            2*w*R2*np.cos(theta2))"
   ]
  },
  {
   "cell_type": "code",
   "execution_count": 7,
   "metadata": {},
   "outputs": [],
   "source": [
    "def descida_grad(f: Callable[[float, float, float], float],\n",
    "                 df: Callable[[float, float, float], tuple],\n",
    "                 k: float, x0y0: tuple = (0.5, 0.5)) -> tuple:\n",
    "    # passo fixo\n",
    "    h = 0.5\n",
    "    # x0y0 = chute inicial\n",
    "    xo, yo = x0y0[0], x0y0[1]\n",
    "    # critérios de parada\n",
    "    N, tol = 50, 1e-8\n",
    "    iter, diff = 0, tol + 1\n",
    "    while iter < N and diff > tol:\n",
    "        grad0, grad1 = df(xo, yo, k)\n",
    "        diff = f(grad0, grad1, k)\n",
    "        xnyn = (\n",
    "            (xo - grad0*h),\n",
    "            (yo - grad1*h)\n",
    "        )\n",
    "        xo, yo = xnyn[0], xnyn[1]\n",
    "        iter += 1\n",
    "    print(f\"iter = {iter}\")\n",
    "    return xnyn"
   ]
  },
  {
   "cell_type": "code",
   "execution_count": 8,
   "metadata": {},
   "outputs": [
    {
     "name": "stdout",
     "output_type": "stream",
     "text": [
      "iter = 50\n",
      "Valores de theta encontrados para x = 2: (-6.034381671028512, 44.52021439823019)\n",
      "Valor de x: 5.054567235343995\n",
      "deveria ser 0 mas é: 9.330380995237059\n"
     ]
    }
   ],
   "source": [
    "# x\n",
    "x = 2\n",
    "theta1, theta2 = descida_grad(f_2d_x, grad_f_2d_x, x, (0.8, 0.8))\n",
    "print(f\"Valores de theta encontrados para x = {x}: {theta1, theta2}\")\n",
    "print(f\"Valor de x: {f(theta1, theta2, np.cos)}\")\n",
    "print(f\"deveria ser 0 mas é: {f_2d_x(theta1, theta2, 2)}\")"
   ]
  },
  {
   "cell_type": "markdown",
   "metadata": {},
   "source": [
    "### Método da bisseção"
   ]
  },
  {
   "cell_type": "code",
   "execution_count": 9,
   "metadata": {},
   "outputs": [],
   "source": [
    "def norm(v: tuple) -> float:\n",
    "    return np.sqrt(sum([i**2 for i in v]))\n",
    "\n",
    "def dist(v1: tuple, v2: tuple) -> tuple:\n",
    "    n = len(v1)\n",
    "    diff = []\n",
    "    if n != len(v2):\n",
    "        return False\n",
    "    for i in range(n):\n",
    "        diff.append(v1[i] - v2[0])\n",
    "    return tuple(diff)"
   ]
  },
  {
   "cell_type": "code",
   "execution_count": 10,
   "metadata": {},
   "outputs": [],
   "source": [
    "def bis(f: Callable[[float, float, float, Callable], float],\n",
    "        func: Callable, a0: tuple, b0: tuple, k: float) -> tuple:\n",
    "    xaya, xbyb, xmym = a0, b0, [None, None]\n",
    "    N, e_stop = 150, 1e-16\n",
    "    iter, e = 0, abs(norm(dist(b0, a0)))\n",
    "    loop = True\n",
    "    while loop:\n",
    "        xmym = list(xmym)\n",
    "        xmym[0] = (xaya[0] + xbyb[0])/2\n",
    "        xmym[1] = (xaya[1] + xbyb[1])/2\n",
    "        xmym = tuple(xmym)\n",
    "        test = f(xaya[0], xaya[1], k, func) * f(xmym[0], xmym[1], k, func)\n",
    "        #print(f\"test={test}\")\n",
    "        if test > 0:\n",
    "            xaya = xmym\n",
    "        elif test < 0:\n",
    "            xbyb = xmym\n",
    "        else:\n",
    "            loop = False\n",
    "        iter += 1\n",
    "        e = abs(norm(dist(xbyb, xaya)))\n",
    "        loop = iter < N and e > e_stop\n",
    "\n",
    "    return xmym"
   ]
  },
  {
   "cell_type": "code",
   "execution_count": 11,
   "metadata": {},
   "outputs": [],
   "source": [
    "def f_k(theta1: float, theta2: float, k: float, func: Callable) -> float:\n",
    "    return R1*func(theta1) + R2*func(theta2) - k"
   ]
  },
  {
   "cell_type": "code",
   "execution_count": 12,
   "metadata": {},
   "outputs": [
    {
     "name": "stdout",
     "output_type": "stream",
     "text": [
      "Valores de theta encontrados para x = 2: (1.1986277928345705, 1.1986277928345705)\n",
      "Valor de x: 2.0000000000000004\n"
     ]
    }
   ],
   "source": [
    "# x\n",
    "x = 2\n",
    "a0 = (np.pi/4, np.pi/4)\n",
    "b0 = (5*np.pi/4, 5*np.pi/4)\n",
    "#print(f\"f_k(a0)={f_k(a0[0], a0[1], x, np.cos)}\")\n",
    "#print(f\"f_k(b0)={f_k(b0[0], b0[1], x, np.cos)}\")\n",
    "theta1, theta2 = bis(f_k, np.cos, a0, b0, x)\n",
    "print(f\"Valores de theta encontrados para x = {x}: {theta1, theta2}\")\n",
    "print(f\"Valor de x: {f(theta1, theta2, np.cos)}\")"
   ]
  },
  {
   "cell_type": "markdown",
   "metadata": {},
   "source": [
    "# Cinemática inversa numérica"
   ]
  },
  {
   "cell_type": "markdown",
   "metadata": {},
   "source": [
    "Sendo $x=f(\\theta)$ o vetor das posições referentes aos ângulos ($\\theta\\in\\mathbb{R}^n$), e $x_d \\in\\mathbb{R}^m$ as coordenadas desejadas, a solução será $\\theta_d$ tal que $g(\\theta_d)=x_d-f(\\theta_d)=0$.\n",
    "\n",
    "Com isso, usando expansão de Taylor, tomando um valor inicial $\\theta_0$:\n",
    "\n",
    "$x_d=f(\\theta_d)=f(\\theta_0)+\\underset{J(\\theta_0)}{\\boxed{\\frac{\\partial f}{\\partial\\theta}\\Big|_{\\theta_0}}}\n",
    "\\cdot\\underset{\\Delta\\theta}{\\boxed{(\\theta_d-\\theta_0)}}~,~~J(\\theta_0)\\in\\mathbb{R}^{m\\times n}~\\Rightarrow~$\n",
    "$J(\\theta_0)\\Delta\\theta=x_d-f(\\theta_0)~\\Rightarrow$\n",
    "\n",
    "$\\theta_1=\\theta_0+\\Delta\\theta$\n",
    "\n",
    "Generalizando:\n",
    "\n",
    "$\\theta_{k+1}=\\theta_k+\\Delta\\theta_k$"
   ]
  },
  {
   "cell_type": "markdown",
   "metadata": {},
   "source": [
    "**Obs:** Sendo $f(\\theta) = \\big[f_1(\\theta)~,~~f_2(\\theta)~,~~\\cdots~,~~f_n(\\theta)\\big]$:\n",
    "\n",
    "$J(\\theta)=$\n",
    "$\\begin{bmatrix}\n",
    "\\frac{\\partial f_1}{\\partial\\theta_1}(\\theta)&\\cdots&\\frac{\\partial f_1}{\\partial\\theta_n}(\\theta)\\\\\n",
    "\\vdots&\\ddots&\\vdots\\\\\n",
    "\\frac{\\partial f_n}{\\partial\\theta_1}(\\theta)&\\cdots&\\frac{\\partial f_n}{\\partial\\theta_n}(\\theta)\n",
    "\\end{bmatrix}$"
   ]
  },
  {
   "cell_type": "markdown",
   "metadata": {},
   "source": [
    "## Caso para 2 dimensões"
   ]
  },
  {
   "cell_type": "markdown",
   "metadata": {},
   "source": [
    "$f=(x,y)=\\Big(f_1(\\theta_1,\\theta_2),~f_2(\\theta_1,\\theta_2)\\Big)=\\Big(R_1\\cos(\\theta_1)+R_2\\cos(\\theta_2),~R_1\\sin(\\theta_1)+R_2\\sin(\\theta_2)\\Big)$\n",
    "\n",
    "$J=\n",
    "\\begin{bmatrix}\n",
    "\\frac{\\partial f_1}{\\partial\\theta_1}&\\frac{\\partial f_1}{\\partial\\theta_2}\\\\\n",
    "\\frac{\\partial f_2}{\\partial\\theta_1}&\\frac{\\partial f_2}{\\partial\\theta_2}\n",
    "\\end{bmatrix}=\n",
    "\\begin{bmatrix}\n",
    "-R_1\\sin(\\theta_1)&-R_2\\sin(\\theta_2)\\\\\n",
    "R_1\\cos(\\theta_1)&R_2\\cos(\\theta_2)\n",
    "\\end{bmatrix}$"
   ]
  },
  {
   "cell_type": "markdown",
   "metadata": {},
   "source": [
    "**Taylor:**\n",
    "\n",
    "$\\begin{bmatrix}\n",
    "-R_1\\sin(\\theta_{1_k})&-R_2\\sin(\\theta_{2_k})\\\\\n",
    "R_1\\cos(\\theta_{1_k})&R_2\\cos(\\theta_{2_k})\n",
    "\\end{bmatrix}$\n",
    "$\\begin{bmatrix}\n",
    "\\theta_{1_{k+1}}-\\theta_{1_k}\\\\\n",
    "\\theta_{2_{k+1}}-\\theta_{2_k}\\\\\n",
    "\\end{bmatrix}=$\n",
    "$\\begin{bmatrix}\n",
    "x_{1_d}\\\\x_{2_d}\n",
    "\\end{bmatrix}-$\n",
    "$\\begin{bmatrix}\n",
    "R_1\\cos(\\theta_{1_k})+R_2\\cos(\\theta_{2_k})\\\\\n",
    "R_1\\sin(\\theta_{1_k})+R_2\\sin(\\theta_{2_k})\n",
    "\\end{bmatrix}$"
   ]
  },
  {
   "cell_type": "markdown",
   "metadata": {},
   "source": [
    "$\n",
    "\\begin{bmatrix}\n",
    "\\theta_{1_{k+1}}-\\theta_{1_k}\\\\\n",
    "\\theta_{2_{k+1}}-\\theta_{2_k}\n",
    "\\end{bmatrix}=\n",
    "\\begin{bmatrix}\n",
    "-R_1\\sin(\\theta_{1_k})&-R_2\\sin(\\theta_{2_k})\\\\\n",
    "R_1\\cos(\\theta_{1_k})&R_2\\cos(\\theta_{2_k})\n",
    "\\end{bmatrix}^{-1}\n",
    "\\begin{bmatrix}\n",
    "x_{1_d} - \\big(R_1\\cos(\\theta_{1_k})+R_2\\cos(\\theta_{2_k})\\big)\\\\\n",
    "x_{2_d} - \\big(R_1\\sin(\\theta_{1_k})+R_2\\sin(\\theta_{2_k})\\big)\n",
    "\\end{bmatrix}\n",
    "$\n",
    "\n",
    "$\n",
    "\\Theta = A^{-1}\\cdot\\Big[X-B\\Big]\n",
    "$"
   ]
  },
  {
   "cell_type": "code",
   "execution_count": 17,
   "metadata": {},
   "outputs": [],
   "source": [
    "def A_matrix_maker(R1, R2, theta1, theta2):\n",
    "    return [[-R1*np.sin(theta1), -R2*np.sin(theta2)], [R1*np.cos(theta1), R2*np.cos(theta2)]]\n",
    "def B_matrix_maker(R1, R2, theta1, theta2):\n",
    "    return [R1*np.cos(theta1)+R2*np.cos(theta2), R1*np.sin(theta1)+R2*np.sin(theta2)]"
   ]
  },
  {
   "cell_type": "code",
   "execution_count": 22,
   "metadata": {},
   "outputs": [
    {
     "name": "stdout",
     "output_type": "stream",
     "text": [
      "Valores de theta encontrados para x,y = [4 4]: (-55.519271996805465, 69.6070366266278)\n",
      "Valor de (x,y): [3.7494869522765764, 3.7519334551698993]\n"
     ]
    }
   ],
   "source": [
    "theta1_0, theta2_0 = (0, np.pi/4)\n",
    "#theta2_0 = (5*np.pi/4, 5*np.pi/4)\n",
    "\n",
    "xd = np.asarray([4, 4])\n",
    "\n",
    "for i in range(50):\n",
    "    A_matrix = np.asarray(A_matrix_maker(R1, R2, theta1_0, theta2_0))\n",
    "    B_matrix = np.asarray(B_matrix_maker(R1, R2, theta1_0, theta2_0))\n",
    "    Theta_vector = np.matmul(np.linalg.inv(A_matrix), xd - B_matrix)\n",
    "    theta1_0, theta2_0 = Theta_vector[0] + theta1_0, Theta_vector[1] + theta2_0\n",
    "    \n",
    "print(f\"Valores de theta encontrados para x,y = {xd}: {theta1_0, theta2_0}\")\n",
    "print(f\"Valor de (x,y): {B_matrix_maker(R1, R2, theta1_0, theta2_0)}\")"
   ]
  }
 ],
 "metadata": {
  "kernelspec": {
   "display_name": "Python 3",
   "language": "python",
   "name": "python3"
  },
  "language_info": {
   "codemirror_mode": {
    "name": "ipython",
    "version": 3
   },
   "file_extension": ".py",
   "mimetype": "text/x-python",
   "name": "python",
   "nbconvert_exporter": "python",
   "pygments_lexer": "ipython3",
   "version": "3.8.10"
  }
 },
 "nbformat": 4,
 "nbformat_minor": 4
}
