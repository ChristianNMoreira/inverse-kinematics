{
 "cells": [
  {
   "cell_type": "code",
   "execution_count": 1,
   "metadata": {},
   "outputs": [],
   "source": [
    "import numpy as np\n",
    "import matplotlib.pyplot as plt"
   ]
  },
  {
   "cell_type": "code",
   "execution_count": 2,
   "metadata": {},
   "outputs": [],
   "source": [
    "from typing import Callable"
   ]
  },
  {
   "cell_type": "markdown",
   "metadata": {},
   "source": [
    "# Cinemática inversa numérica"
   ]
  },
  {
   "cell_type": "markdown",
   "metadata": {},
   "source": [
    "Sendo $x=f(\\theta)$ o vetor das posições referentes aos ângulos ($\\theta\\in\\mathbb{R}^n$), e $x_d \\in\\mathbb{R}^m$ as coordenadas desejadas, a solução será $\\theta_d$ tal que $g(\\theta_d)=x_d-f(\\theta_d)=0$."
   ]
  },
  {
   "cell_type": "markdown",
   "metadata": {},
   "source": [
    "Pelo método de Newton-Raphson, para resolver uma equação do tipo $g(\\theta)=0$ , se usa a expansão de Taylor de primeira ordem:\n",
    "\n",
    "$g(\\theta)=g(\\theta_0)+\\frac{\\partial g}{\\partial\\theta}\\Big|_{\\theta_0}(\\theta-\\theta_0)~~$\n",
    "$\\overset{g(\\theta)=0}{\\longrightarrow}~~$\n",
    "$\\theta=\\theta_0-\\Big(\\frac{\\partial g}{\\partial\\theta}\\Big|_{\\theta_0}\\Big)^{-1}g(\\theta_0)$\n",
    "\n",
    "Generalizando:\n",
    "\n",
    "$\\theta_{k+1}=\\theta_k-\\Big(\\frac{\\partial g}{\\partial\\theta}\\Big|_{\\theta_k}\\Big)^{-1}g(\\theta_k)$"
   ]
  },
  {
   "cell_type": "markdown",
   "metadata": {},
   "source": [
    "Com isso:\n",
    "\n",
    "$x_d=f(\\theta_d)=f(\\theta_0)+\\underset{J(\\theta_0)}{\\boxed{\\frac{\\partial f}{\\partial\\theta}\\Big|_{\\theta_0}}}\n",
    "\\cdot\\underset{\\Delta\\theta}{\\boxed{(\\theta_d-\\theta_0)}}~,~~J(\\theta_0)\\in\\mathbb{R}^{m\\times n}~\\Rightarrow~$\n",
    "$J(\\theta_0)\\Delta\\theta=x_d-f(\\theta_0)~\\Rightarrow$\n",
    "\n",
    "$\\theta_1=\\theta_0+\\Delta\\theta$\n",
    "\n",
    "Generalizando:\n",
    "\n",
    "$\\theta_{k+1}=\\theta_k+\\Delta\\theta_k$"
   ]
  },
  {
   "cell_type": "markdown",
   "metadata": {},
   "source": [
    "**Obs:** Sendo $f(\\theta) = \\big[f_1(\\theta)~,~~f_2(\\theta)~,~~\\cdots~,~~f_n(\\theta)\\big]$:\n",
    "\n",
    "$J(\\theta)=$\n",
    "$\\begin{bmatrix}\n",
    "\\frac{\\partial f_1}{\\partial\\theta_1}(\\theta)&\\cdots&\\frac{\\partial f_1}{\\partial\\theta_n}(\\theta)\\\\\n",
    "\\vdots&\\ddots&\\vdots\\\\\n",
    "\\frac{\\partial f_n}{\\partial\\theta_1}(\\theta)&\\cdots&\\frac{\\partial f_n}{\\partial\\theta_n}(\\theta)\n",
    "\\end{bmatrix}$"
   ]
  },
  {
   "cell_type": "markdown",
   "metadata": {},
   "source": [
    "## Caso para 1 dimensão"
   ]
  },
  {
   "cell_type": "markdown",
   "metadata": {},
   "source": [
    "O caso para 1 dimensão se resume em encontrar um ângulo referente a uma posição em um círculo. Pode-se usar o método de Newton."
   ]
  },
  {
   "cell_type": "markdown",
   "metadata": {},
   "source": [
    "### Método de Newton"
   ]
  },
  {
   "cell_type": "code",
   "execution_count": 3,
   "metadata": {},
   "outputs": [],
   "source": [
    "def nr(f: Callable[[float], float], df: Callable[[float], float], x: float, p: float) -> float:\n",
    "    # p = chute inicial\n",
    "    def g(w):\n",
    "        return f(w) - x\n",
    "    xl = p\n",
    "    # critérios de parada\n",
    "    N, e_stop = 50, 1e-8\n",
    "    iter, e = 0, 1\n",
    "    while iter < N-1 and e > e_stop:\n",
    "        xn = xl - g(xl)/df(xl)\n",
    "        e = xn\n",
    "        xl = xn\n",
    "        iter += 1\n",
    "\n",
    "    return xn"
   ]
  },
  {
   "cell_type": "code",
   "execution_count": 4,
   "metadata": {},
   "outputs": [],
   "source": [
    "R = 3\n",
    "\n",
    "def f_1d(theta: float) -> float:\n",
    "    return theta*R\n",
    "\n",
    "def d_f_1d(theta: float) -> float:\n",
    "    return R"
   ]
  },
  {
   "cell_type": "code",
   "execution_count": 5,
   "metadata": {
    "scrolled": false
   },
   "outputs": [
    {
     "name": "stdout",
     "output_type": "stream",
     "text": [
      "Valor de theta encontrado para x = 2: 0.6666666666666667\n",
      "Valor de x: 2.0\n"
     ]
    }
   ],
   "source": [
    "theta_nr = nr(f_1d, d_f_1d, 2, 0.7)\n",
    "print(f\"Valor de theta encontrado para x = 2: {theta_nr}\")\n",
    "print(f\"Valor de x: {f_1d(theta_nr)}\")"
   ]
  },
  {
   "cell_type": "markdown",
   "metadata": {},
   "source": [
    "## Caso para 2 dimensões"
   ]
  },
  {
   "cell_type": "markdown",
   "metadata": {},
   "source": [
    "$f=(x,y)=\\Big(f_1(\\theta_1,\\theta_2),~f_2(\\theta_1,\\theta_2)\\Big)=\\Big(R_1\\cos(\\theta_1)+R_2\\cos(\\theta_2),~R_1\\sin(\\theta_1)+R_2\\sin(\\theta_2)\\Big)$\n",
    "\n",
    "$J=\\begin{bmatrix}\\frac{\\partial f_1}{\\partial\\theta_1}&\\frac{\\partial f_1}{\\partial\\theta_2}\\\\\\frac{\\partial f_2}{\\partial\\theta_1}&\\frac{\\partial f_2}{\\partial\\theta_2}\\end{bmatrix}=$\n",
    "$\\begin{bmatrix}-R_1\\sin(\\theta_1)&-R_2\\sin(\\theta_2)\\\\R_1\\cos(\\theta_1)&R_2\\cos(\\theta_2)\\end{bmatrix}$"
   ]
  },
  {
   "cell_type": "markdown",
   "metadata": {},
   "source": [
    "**Newton-Raphson:**\n",
    "\n",
    "$\\begin{bmatrix}\n",
    "-R_1\\sin(\\theta_{1_k})&-R_2\\sin(\\theta_{2_k})\\\\\n",
    "R_1\\cos(\\theta_{1_k})&R_2\\cos(\\theta_{2_k})\n",
    "\\end{bmatrix}$\n",
    "$\\begin{bmatrix}\n",
    "\\theta_{1_{k+1}}-\\theta_{1_k}\\\\\n",
    "\\theta_{2_{k+1}}-\\theta_{2_k}\\\\\n",
    "\\end{bmatrix}=$\n",
    "$\\begin{bmatrix}\n",
    "x_{1_d}\\\\x_{2_d}\n",
    "\\end{bmatrix}-$\n",
    "$\\begin{bmatrix}\n",
    "R_1\\cos(\\theta_{1_k})+R_2\\cos(\\theta_{2_k})\\\\\n",
    "R_1\\sin(\\theta_{1_k})+R_2\\sin(\\theta_{2_k})\n",
    "\\end{bmatrix}$"
   ]
  },
  {
   "cell_type": "markdown",
   "metadata": {},
   "source": [
    "$\\begin{bmatrix}\n",
    "\\theta_{1_{k+1}}-\\theta_{1_k}\\\\\n",
    "\\theta_{2_{k+1}}-\\theta_{2_k}\n",
    "\\end{bmatrix}=\n",
    "\\begin{bmatrix}\n",
    "-R_1\\sin(\\theta_{1_k})&-R_2\\sin(\\theta_{2_k})\\\\\n",
    "R_1\\cos(\\theta_{1_k})&R_2\\cos(\\theta_{2_k})\n",
    "\\end{bmatrix}^{-1}\n",
    "\\begin{bmatrix}\n",
    "x_{1_d} - \\big(R_1\\cos(\\theta_{1_k})+R_2\\cos(\\theta_{2_k})\\big)\\\\\n",
    "x_{2_d} - \\big(R_1\\sin(\\theta_{1_k})+R_2\\sin(\\theta_{2_k})\\big)\n",
    "\\end{bmatrix}$\n",
    "\n",
    "$\\Theta = A^{-1}\\cdot\\Big[X-B\\Big]$"
   ]
  },
  {
   "cell_type": "code",
   "execution_count": 6,
   "metadata": {},
   "outputs": [],
   "source": [
    "def A_matrix_maker(R1, R2, theta1, theta2):\n",
    "    return [[-R1*np.sin(theta1), -R2*np.sin(theta2)], [R1*np.cos(theta1), R2*np.cos(theta2)]]\n",
    "def B_matrix_maker(R1, R2, theta1, theta2):\n",
    "    return [R1*np.cos(theta1)+R2*np.cos(theta2), R1*np.sin(theta1)+R2*np.sin(theta2)]"
   ]
  },
  {
   "cell_type": "code",
   "execution_count": 7,
   "metadata": {},
   "outputs": [],
   "source": [
    "def nr_2d(R1: float, R2: float, theta1: float, theta2: float, xd: list) -> tuple:\n",
    "    xd = np.asarray(xd)\n",
    "    mod = np.sqrt(xd[0]**2 + xd[1]**2)\n",
    "    if mod > R1+R2 or mod < abs(R1-R2):\n",
    "        raise ValueError(\"Não alcançável\")\n",
    "    loop = True\n",
    "    iter = 0\n",
    "    while loop:\n",
    "        iter += 1\n",
    "        A_matrix = np.asarray(A_matrix_maker(R1, R2, theta1, theta2))\n",
    "        B_matrix = np.asarray(B_matrix_maker(R1, R2, theta1, theta2))\n",
    "        Theta_vector = np.matmul(np.linalg.inv(A_matrix), xd - B_matrix)\n",
    "        theta1, theta2 = Theta_vector[0] + theta1, Theta_vector[1] + theta2\n",
    "        x = np.asarray(B_matrix_maker(R1, R2, theta1, theta2))\n",
    "        loop = iter < 50 and not np.allclose(xd, x, rtol=1e-10)\n",
    "    return theta1, theta2, x"
   ]
  },
  {
   "cell_type": "code",
   "execution_count": 8,
   "metadata": {},
   "outputs": [
    {
     "name": "stdout",
     "output_type": "stream",
     "text": [
      "x desejado: [2.3370235 4.5493437]  x encontrado: [2.3370235 4.5493437]\n",
      "x desejado: [1.27567193 1.52079374]  x encontrado: [1.27567193 1.52079374]\n",
      "x desejado: [1.25856649 3.5562385 ]  x encontrado: [1.25856648 3.5562385 ]\n",
      "x desejado: [1.60186245 4.24354175]  x encontrado: [1.60186245 4.24354175]\n",
      "x desejado: [1.01547441 4.39775937]  x encontrado: [1.01547441 4.39775937]\n",
      "x desejado: [2.10794206 1.59578626]  x encontrado: [-0.34152588 -2.36528251]\n",
      "x desejado: [2.11629981 3.55053658]  x encontrado: [2.11629981 3.55053658]\n",
      "x desejado: [1.52930282 2.43685252]  x encontrado: [1.52930282 2.43685252]\n",
      "x desejado: [2.05220392 1.13184268]  x encontrado: [2.05220392 1.13184268]\n",
      "x desejado: [2.10774871 1.06575671]  x encontrado: [2.10774871 1.06575671]\n",
      "x desejado: [4.05301613 3.48043317]  x encontrado: [4.05301613 3.48043317]\n",
      "x desejado: [3.91389256 1.63721503]  x encontrado: [3.91389256 1.63721503]\n",
      "Não alcançável\n",
      "x desejado: [2.85468578 1.84314376]  x encontrado: [2.85468578 1.84314376]\n",
      "x desejado: [2.94661058 2.65094102]  x encontrado: [2.94661058 2.65094102]\n",
      "x desejado: [1.50934578 2.8030059 ]  x encontrado: [ 0.96429403 -2.71716072]\n",
      "x desejado: [3.12504448 2.79949271]  x encontrado: [3.12504448 2.79949271]\n",
      "Não alcançável\n",
      "x desejado: [3.38493165 3.29582314]  x encontrado: [3.38493165 3.29582314]\n",
      "x desejado: [1.62400939 1.52068898]  x encontrado: [1.62400939 1.52068898]\n",
      "x desejado: [4.69359615 2.66123649]  x encontrado: [4.69359615 2.66123649]\n",
      "x desejado: [3.4158115  2.92716432]  x encontrado: [3.4158115  2.92716432]\n",
      "Não alcançável\n",
      "x desejado: [3.19314723 4.13742843]  x encontrado: [3.19314723 4.13742843]\n",
      "x desejado: [2.91205752 4.06885238]  x encontrado: [2.91205751 4.06885237]\n",
      "Não alcançável\n",
      "x desejado: [1.19621012 3.21034952]  x encontrado: [1.19621012 3.21034952]\n",
      "x desejado: [1.27731203 2.81790311]  x encontrado: [1.27731203 2.8179031 ]\n",
      "x desejado: [1.25537407 2.21915298]  x encontrado: [1.25537407 2.21915297]\n",
      "x desejado: [3.88603728 1.41376335]  x encontrado: [3.88603728 1.41376335]\n",
      "x desejado: [2.76526532 4.61068849]  x encontrado: [2.76526532 4.61068848]\n",
      "x desejado: [1.92186687 4.28374086]  x encontrado: [1.92186687 4.28374086]\n",
      "Não alcançável\n",
      "x desejado: [2.55592483 4.6792287 ]  x encontrado: [2.55592482 4.6792287 ]\n",
      "x desejado: [3.47463059 2.78453692]  x encontrado: [3.47463059 2.78453692]\n",
      "x desejado: [2.6052905  2.63761288]  x encontrado: [2.6052905  2.63761287]\n",
      "x desejado: [2.33676032 3.33016311]  x encontrado: [2.33676032 3.33016311]\n",
      "x desejado: [2.19705691 1.47290645]  x encontrado: [2.19705691 1.47290645]\n",
      "x desejado: [3.09175966 3.71766041]  x encontrado: [3.09175965 3.71766041]\n",
      "x desejado: [2.68285471 4.21090585]  x encontrado: [2.68285471 4.21090585]\n",
      "x desejado: [4.92286491 2.44409182]  x encontrado: [4.92286491 2.44409182]\n",
      "x desejado: [2.91894913 2.40613337]  x encontrado: [2.91894913 2.40613337]\n",
      "x desejado: [2.56436914 3.01133997]  x encontrado: [2.56436914 3.01133996]\n",
      "x desejado: [3.3175159  1.88296625]  x encontrado: [3.3175159  1.88296625]\n",
      "x desejado: [3.71444697 4.01246628]  x encontrado: [3.71444697 4.01246628]\n",
      "x desejado: [1.28463661 2.87386069]  x encontrado: [1.28463661 2.87386069]\n",
      "x desejado: [3.1770287  4.36637738]  x encontrado: [3.1770287  4.36637738]\n",
      "x desejado: [2.4576156  3.72290668]  x encontrado: [2.4576156  3.72290667]\n",
      "x desejado: [3.38912443 3.87993141]  x encontrado: [3.38912443 3.87993141]\n",
      "x desejado: [4.26287229 2.87999179]  x encontrado: [4.26287229 2.87999179]\n"
     ]
    }
   ],
   "source": [
    "theta1, theta2 = (0, np.pi/4)\n",
    "R1, R2 = 3, 2.5\n",
    "\n",
    "for i in range(50):\n",
    "    xd = np.random.uniform(1, 5, [1, 2])[0]\n",
    "    try:\n",
    "        _, _, x = nr_2d(R1, R2, theta1, theta2, xd)\n",
    "        print(f\"x desejado: {xd}  x encontrado: {x}\")\n",
    "    except (ValueError, np.linalg.LinAlgError) as e:\n",
    "        print(e)"
   ]
  }
 ],
 "metadata": {
  "kernelspec": {
   "display_name": "Python 3",
   "language": "python",
   "name": "python3"
  },
  "language_info": {
   "codemirror_mode": {
    "name": "ipython",
    "version": 3
   },
   "file_extension": ".py",
   "mimetype": "text/x-python",
   "name": "python",
   "nbconvert_exporter": "python",
   "pygments_lexer": "ipython3",
   "version": "3.8.10"
  }
 },
 "nbformat": 4,
 "nbformat_minor": 4
}
