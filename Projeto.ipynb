{
 "cells": [
  {
   "cell_type": "code",
   "execution_count": 1,
   "source": [
    "# Para testes\r\n",
    "import numpy as np\r\n",
    "import matplotlib.pyplot as plt\r\n",
    "\r\n",
    "pi = np.pi"
   ],
   "outputs": [],
   "metadata": {}
  },
  {
   "cell_type": "markdown",
   "source": [
    "# Cinemática Inversa\r\n",
    "\r\n",
    "O problema da cinemática inversa consiste em encontrar ângulos de juntas robóticas que correspondem à certa posição do braço robótico no espaço. Ou seja, encontrar valores de $\\theta$ que satisfaçam $f(\\theta)=x$, $f(\\theta_1,\\theta_2)=(x,y)$ e $f(\\theta_1,\\theta_2,\\theta_3)=(x,y,z)$."
   ],
   "metadata": {}
  },
  {
   "cell_type": "markdown",
   "source": [
    "## Método de Newton"
   ],
   "metadata": {}
  },
  {
   "cell_type": "code",
   "execution_count": 2,
   "source": [
    "def nr(f, df, x, p):\r\n",
    "    # p = chute inicial\r\n",
    "    def g(w):\r\n",
    "        return f(w) - x\r\n",
    "    xl = p\r\n",
    "    # critérios de parada\r\n",
    "    N, e_stop = 50, 1e-8\r\n",
    "    iter, e = 0, 1\r\n",
    "    while iter < N-1 and e > e_stop:\r\n",
    "        xn = xl - g(xl)/df(xl)\r\n",
    "        e = xn\r\n",
    "        xl = xn\r\n",
    "        iter += 1\r\n",
    "\r\n",
    "    return xn"
   ],
   "outputs": [],
   "metadata": {}
  },
  {
   "cell_type": "markdown",
   "source": [
    "## Caso para 1 dimensão"
   ],
   "metadata": {}
  },
  {
   "cell_type": "markdown",
   "source": [
    "O caso para 1 dimensão se resume em encontrar um ângulo referente a uma posição em um círculo"
   ],
   "metadata": {}
  },
  {
   "cell_type": "code",
   "execution_count": 3,
   "source": [
    "R = 3\n",
    "\n",
    "def f_1d(theta):\n",
    "    return theta*R\n",
    "\n",
    "def d_f_1d(theta):\n",
    "    return R"
   ],
   "outputs": [],
   "metadata": {}
  },
  {
   "cell_type": "code",
   "execution_count": 4,
   "source": [
    "theta_nr = nr(f_1d, d_f_1d, 2, 0.7)\n",
    "print(f\"Valor de theta encontrado para x = 2: {theta_nr}\")\n",
    "print(f\"Valor de x: {f_1d(theta_nr)}\")"
   ],
   "outputs": [
    {
     "output_type": "stream",
     "name": "stdout",
     "text": [
      "Valor de theta encontrado para x = 2: 0.6666666666666667\n",
      "Valor de x: 2.0\n"
     ]
    }
   ],
   "metadata": {}
  }
 ],
 "metadata": {
  "kernelspec": {
   "display_name": "Python 3",
   "language": "python",
   "name": "python3"
  },
  "language_info": {
   "codemirror_mode": {
    "name": "ipython",
    "version": 3
   },
   "file_extension": ".py",
   "mimetype": "text/x-python",
   "name": "python",
   "nbconvert_exporter": "python",
   "pygments_lexer": "ipython3",
   "version": "3.8.5"
  }
 },
 "nbformat": 4,
 "nbformat_minor": 4
}